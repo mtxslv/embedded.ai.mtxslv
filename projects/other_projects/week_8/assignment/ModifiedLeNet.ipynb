{
  "cells": [
    {
      "cell_type": "markdown",
      "metadata": {
        "id": "55GzB8QgaBId"
      },
      "source": [
        "# LeNet-5\n",
        "\n",
        "_Introduction by Ivanovitch Silva_"
      ]
    },
    {
      "cell_type": "markdown",
      "metadata": {
        "id": "Qc70EZluafYi"
      },
      "source": [
        "Perhaps the first widely known and successful application of convolutional neural networks was **LeNet-5**, described by Yann LeCun, et al. in their 1998 paper titled [Gradient-Based Learning Applied to Document Recognition](https://ieeexplore.ieee.org/document/726791). The system was developed for use in a handwritten character recognition problem and demonstrated on the **MNIST standard dataset**, achieving approximately 99.2% classification accuracy (or a 0.8% error rate). The network was then described as the central technique in a broader system referred to as **Graph Transformer Networks**.\n",
        "\n",
        "It is a long paper, and perhaps the best part to focus on is Section II. B. that describes the LeNet-5 architecture. In that section, the paper describes the **network as having seven layers** with input **grayscale images** having the shape **32 x 32**, the size of images in the **MNIST dataset**. \n",
        "\n",
        "> The model proposes a pattern of a convolutional layer followed by an average pooling layer, referred to as a **subsampling layer**. \n",
        "\n",
        "This pattern is repeated two and a half times before the output feature maps are flattened and fed to some fully connected layers for interpretation and a final prediction. A picture of the network architecture is provided in the paper and reproduced below.\n",
        "\n",
        "<img width=\"800\" src=\"https://drive.google.com/uc?export=view&id=1nqbLzHfqorX80I8upHMWINwPNfrmLW-V\"/>\n",
        "\n",
        "The pattern of blocks of convolutional layers and pooling layers (referred to as **subsampling**) grouped and repeated **remains a typical pattern in designing and using convolutional neural networks today, more than twenty years later**. Interestingly, the architecture uses a small number of filters with a modest size as the first hidden layer, specifically 6 filters, each with 5x5 pixels. After pooling, another convolutional layer has many more filters, again with the same size, precisely 16 filters with 5x5 pixels, again followed by pooling. In the repetition of these two blocks of convolution and pooling layers, the trend increases the number of filters.\n",
        "\n",
        "Compared to modern applications, the number of filters is also small, but **the trend of increasing the number of filters with the depth of the network also remains a common pattern in modern usage of the technique.** The flattening of the feature maps and interpretation and classification of the extracted features by fully connected layers also remains a common pattern today. \n",
        "\n",
        "> In modern terminology, the **final section of the architecture** is often referred to as the **classifier**, whereas the **convolutional and pooling layers** earlier in the model are referred to as the **feature extractor**.\n",
        "\n",
        "We can summarize the key aspects of the architecture relevant in modern models as follows:\n",
        "\n",
        "- Fixed-sized input images.\n",
        "- Group convolutional and pooling layers into blocks.\n",
        "- Repetition of convolutional-pooling blocks in the architecture.\n",
        "- Increase in the number of filters with the depth of the network.\n",
        "- Distinct feature extraction and classifier parts of the architecture."
      ]
    },
    {
      "cell_type": "markdown",
      "metadata": {
        "id": "I9T-QqGThsQD"
      },
      "source": [
        "# But What If....\n",
        "\n",
        "Even though LeNet is awesome, couldn't we improve it? For example...\n",
        "- the original lenet uses _tanh_ activation function. On the other hand, [Goodfellow et al.](https://www.deeplearningbook.org/contents/mlp.html) (2016) comments that _ReLu_ activation function is easier to optimize; \n",
        "- [Dropout (2014)](https://www.cs.toronto.edu/~rsalakhu/papers/srivastava14a.pdf) and [Batch Normalization (2015)](https://arxiv.org/abs/1502.03167) are popular ideas that appeared only a decade after the LeNet was published.\n",
        "\n",
        "Thus, this is a good opportunity to try them out. In order to do this, let's use [WandB Sweeps](https://docs.wandb.ai/guides/sweeps). \n",
        "\n",
        "The rest of this file (such as the Intro) were borrowed from [Ivanovitch Silva's code](https://github.com/ivanovitchm/embedded.ai/blob/main/lessons/week_08/LeNet.ipynb), and modified as needed. Contrary to the original file, this one does not contain Data Augmentation and does not explicitly implement the IvanNet, since the goal is to try the use of ReLu, Dropout and BatchNorm. It is important to notice that, by using Dropout and BatchNorm, we try IvanNet as well (since these modifications were applied in it)."
      ]
    },
    {
      "cell_type": "markdown",
      "metadata": {
        "id": "ApYpc47MFOYi"
      },
      "source": [
        "## Step 01: Setup"
      ]
    },
    {
      "cell_type": "markdown",
      "metadata": {
        "id": "ULBka-lQFJW9"
      },
      "source": [
        "Start out by installing the experiment tracking library and setting up your free W&B account:\n",
        "\n",
        "\n",
        "*   **pip install wandb** – Install the W&B library\n",
        "*   **import wandb** – Import the wandb library\n",
        "*   **wandb login** – Login to your W&B account so you can log all your metrics in one place"
      ]
    },
    {
      "cell_type": "code",
      "execution_count": null,
      "metadata": {
        "id": "vWnFIWPuFXej"
      },
      "outputs": [],
      "source": [
        "!pip install wandb -qU"
      ]
    },
    {
      "cell_type": "code",
      "execution_count": null,
      "metadata": {
        "colab": {
          "base_uri": "https://localhost:8080/"
        },
        "id": "NBqatao0jyp5",
        "outputId": "69e271af-88d7-49f6-fd84-f6a662fa0713"
      },
      "outputs": [
        {
          "name": "stdout",
          "output_type": "stream",
          "text": [
            "Looking in indexes: https://pypi.org/simple, https://us-python.pkg.dev/colab-wheels/public/simple/\n",
            "Requirement already satisfied: codecarbon in /usr/local/lib/python3.7/dist-packages (2.1.4)\n",
            "Requirement already satisfied: click in /usr/local/lib/python3.7/dist-packages (from codecarbon) (7.1.2)\n",
            "Requirement already satisfied: arrow in /usr/local/lib/python3.7/dist-packages (from codecarbon) (1.2.3)\n",
            "Requirement already satisfied: psutil in /usr/local/lib/python3.7/dist-packages (from codecarbon) (5.4.8)\n",
            "Requirement already satisfied: pynvml in /usr/local/lib/python3.7/dist-packages (from codecarbon) (11.4.1)\n",
            "Requirement already satisfied: fuzzywuzzy in /usr/local/lib/python3.7/dist-packages (from codecarbon) (0.18.0)\n",
            "Requirement already satisfied: py-cpuinfo in /usr/local/lib/python3.7/dist-packages (from codecarbon) (9.0.0)\n",
            "Requirement already satisfied: pandas in /usr/local/lib/python3.7/dist-packages (from codecarbon) (1.3.5)\n",
            "Requirement already satisfied: requests in /usr/local/lib/python3.7/dist-packages (from codecarbon) (2.23.0)\n",
            "Requirement already satisfied: typing-extensions in /usr/local/lib/python3.7/dist-packages (from arrow->codecarbon) (4.1.1)\n",
            "Requirement already satisfied: python-dateutil>=2.7.0 in /usr/local/lib/python3.7/dist-packages (from arrow->codecarbon) (2.8.2)\n",
            "Requirement already satisfied: six>=1.5 in /usr/local/lib/python3.7/dist-packages (from python-dateutil>=2.7.0->arrow->codecarbon) (1.15.0)\n",
            "Requirement already satisfied: pytz>=2017.3 in /usr/local/lib/python3.7/dist-packages (from pandas->codecarbon) (2022.5)\n",
            "Requirement already satisfied: numpy>=1.17.3 in /usr/local/lib/python3.7/dist-packages (from pandas->codecarbon) (1.21.6)\n",
            "Requirement already satisfied: chardet<4,>=3.0.2 in /usr/local/lib/python3.7/dist-packages (from requests->codecarbon) (3.0.4)\n",
            "Requirement already satisfied: idna<3,>=2.5 in /usr/local/lib/python3.7/dist-packages (from requests->codecarbon) (2.10)\n",
            "Requirement already satisfied: urllib3!=1.25.0,!=1.25.1,<1.26,>=1.21.1 in /usr/local/lib/python3.7/dist-packages (from requests->codecarbon) (1.24.3)\n",
            "Requirement already satisfied: certifi>=2017.4.17 in /usr/local/lib/python3.7/dist-packages (from requests->codecarbon) (2022.9.24)\n"
          ]
        }
      ],
      "source": [
        "# a Python package for tracking the carbon emissions produced by various\n",
        "# kinds of computer programs, from straightforward algorithms to deep neural networks.\n",
        "!pip install codecarbon"
      ]
    },
    {
      "cell_type": "markdown",
      "metadata": {
        "id": "wcrOk6pURp50"
      },
      "source": [
        "### Import Packages"
      ]
    },
    {
      "cell_type": "code",
      "execution_count": null,
      "metadata": {
        "id": "eRkPuQEg3_RL"
      },
      "outputs": [],
      "source": [
        "# import the necessary packages\n",
        "import logging\n",
        "import joblib\n",
        "import tensorflow as tf\n",
        "from tensorflow.keras.models import Sequential\n",
        "from tensorflow.keras.layers import BatchNormalization\n",
        "from tensorflow.keras.layers import Dropout\n",
        "from tensorflow.keras.layers import Conv2D\n",
        "from tensorflow.keras.layers import AveragePooling2D\n",
        "from tensorflow.keras.layers import Activation\n",
        "from tensorflow.keras.layers import Flatten\n",
        "from tensorflow.keras.layers import Dense\n",
        "from tensorflow.keras import backend as K\n",
        "from tensorflow.keras.optimizers import SGD, Adam\n",
        "from tensorflow.keras.datasets import mnist\n",
        "from sklearn.preprocessing import LabelBinarizer\n",
        "from tensorflow.keras import backend as K\n",
        "import matplotlib.pyplot as plt\n",
        "import numpy as np\n",
        "from codecarbon import EmissionsTracker\n",
        "from tensorflow.keras.callbacks import Callback\n",
        "from wandb.keras import WandbCallback\n",
        "from sklearn.metrics import classification_report\n",
        "from sklearn.metrics import fbeta_score, precision_score, recall_score, accuracy_score\n",
        "from sklearn.metrics import confusion_matrix\n",
        "from sklearn.metrics import ConfusionMatrixDisplay\n",
        "import wandb\n",
        "import cv2\n",
        "from tensorflow.keras.preprocessing.image import ImageDataGenerator"
      ]
    },
    {
      "cell_type": "markdown",
      "metadata": {
        "id": "C-m7ecchsONA"
      },
      "source": [
        "### WandB Login"
      ]
    },
    {
      "cell_type": "code",
      "execution_count": null,
      "metadata": {
        "colab": {
          "base_uri": "https://localhost:8080/"
        },
        "id": "7ee2tdx7Cnfs",
        "outputId": "5c0a2e0d-00a5-438d-deca-e0ea6f2bbaf8"
      },
      "outputs": [
        {
          "data": {
            "text/plain": [
              "True"
            ]
          },
          "execution_count": 39,
          "metadata": {},
          "output_type": "execute_result"
        }
      ],
      "source": [
        "wandb.login()"
      ]
    },
    {
      "cell_type": "markdown",
      "metadata": {
        "id": "5gOFLPCisJJK"
      },
      "source": [
        "### Logger"
      ]
    },
    {
      "cell_type": "code",
      "execution_count": null,
      "metadata": {
        "id": "Xq0zG_132yC2"
      },
      "outputs": [],
      "source": [
        "# configure logging\n",
        "# reference for a logging obj\n",
        "logger = logging.getLogger()\n",
        "\n",
        "# set level of logging\n",
        "logger.setLevel(logging.INFO)\n",
        "\n",
        "# create handlers\n",
        "c_handler = logging.StreamHandler()\n",
        "c_format = logging.Formatter(fmt=\"%(asctime)s %(message)s\",datefmt='%d-%m-%Y %H:%M:%S')\n",
        "c_handler.setFormatter(c_format)\n",
        "\n",
        "# add handler to the logger\n",
        "logger.handlers[0] = c_handler"
      ]
    },
    {
      "cell_type": "markdown",
      "metadata": {
        "id": "7ucbHKZdsF2s"
      },
      "source": [
        "### Project Name"
      ]
    },
    {
      "cell_type": "code",
      "execution_count": null,
      "metadata": {
        "id": "bn3AEDH2sGOW"
      },
      "outputs": [],
      "source": [
        "# since we are using Jupyter Notebooks we can replace our argument\n",
        "# parsing code with *hard coded* arguments and values\n",
        "args = {\n",
        "  \"project_name\": \"lenet-5-assignment\"\n",
        "}"
      ]
    },
    {
      "cell_type": "markdown",
      "metadata": {
        "id": "fApD1K7W4vgq"
      },
      "source": [
        "## Step 02: Implementing *a new, modified version of* LeNet-5"
      ]
    },
    {
      "cell_type": "markdown",
      "metadata": {
        "id": "mykT4hni5RrF"
      },
      "source": [
        "Below we see the original LeNet-5, as proposed by Yann Lecun.\n",
        "\n",
        "<img width=\"800\" src=\"https://drive.google.com/uc?export=view&id=1RF_HWPSImajab-i1ayFeEOoFON0Ky-28\"/>\n",
        "\n",
        "Below, however, we'll accomodate some modifications to  be tested by the sweep:\n",
        "- BatchNorm after convolutional mappings C1 and C3;\n",
        "- Dropout after subsampling S2 and S4;\n",
        "\n",
        "They will not be hard-coded. Instead, the sweeps will control the addition or not of them."
      ]
    },
    {
      "cell_type": "markdown",
      "metadata": {
        "id": "b0pYGw2LK0Vy"
      },
      "source": [
        "Source code based on [**Rosebrock, Adrian. Deep Learning For Computer vision with Python, 2019**](https://pyimagesearch.com/deep-learning-computer-vision-python-book/)"
      ]
    },
    {
      "cell_type": "code",
      "execution_count": null,
      "metadata": {
        "id": "5Um7gG8YvhPL"
      },
      "outputs": [],
      "source": [
        "class LeNet:\n",
        "  ''' \n",
        "  # create LeNet-5 model\n",
        "  #\n",
        "  # it is composed of the 8 layers (5 layers considering FC as one layer) \n",
        "  # such as:\n",
        "  #      - 2 convolutional layers\n",
        "  #      - 2 subsampling (avg pooling) layers\n",
        "  #      - 1 flatten layer\n",
        "  #      - 2 fully connected layers\n",
        "  #      - 1 output layer with 10 outputs\n",
        "  '''\n",
        "  @staticmethod\n",
        "  def build(width, height, depth, classes, activation_function, batch_norm = False, dropout = 0.0):\n",
        "    if not activation_function == 'tanh' and not activation_function == 'relu':\n",
        "      raise ValueError('Wrong Activation Function')\n",
        "    # initialize the model\n",
        "    model = Sequential()\n",
        "    inputShape = (height, width, depth)\n",
        "    \n",
        "    # if we are using \"channels first\", update the input shape\n",
        "    if K.image_data_format() == \"channels_first\":\n",
        "      inputShape = (depth, height, width)\n",
        "   \n",
        "    # first set of CONV => RELU => POOL layers\n",
        "    model.add(Conv2D(6, (5,5), strides=1, padding='same',\n",
        "                     activation=activation_function, input_shape=(28,28,1), )) #C1\n",
        "    if batch_norm: # is batch norm is selected, add a BatchNorm layer\n",
        "      model.add(BatchNormalization())\n",
        "\n",
        "    model.add(AveragePooling2D()) #S2\n",
        "\n",
        "    if dropout > 0.0: # is some dropout percentage will be applied, add Dropout if that percentage\n",
        "      model.add(Dropout(dropout))\n",
        "\n",
        "\n",
        "    # second set of CONV => RELU => POOL layers\n",
        "    model.add(Conv2D(16, (5,5), strides=1, padding='valid',\n",
        "                     activation=activation_function)) #C3\n",
        "    if batch_norm: # is batch norm is selected, add a BatchNorm layer\n",
        "      model.add(BatchNormalization())\n",
        "\n",
        "    model.add(AveragePooling2D()) #S4\n",
        "\n",
        "    # a flatten and two set of FC => RELU layers\n",
        "    model.add(Flatten()) #Flatten\n",
        "    model.add(Dense(120, activation = activation_function)) #C5\n",
        "\n",
        "    if dropout > 0.0: # is some dropout percentage will be applied, add Dropout if that percentage\n",
        "      model.add(Dropout(dropout))\n",
        "      \n",
        "    model.add(Dense(84, activation = activation_function)) #F6\n",
        "    if dropout > 0.0:\n",
        "      model.add(Dropout(dropout))\n",
        "\n",
        "    # softmax classifier\n",
        "    model.add(Dense(10, activation='softmax')) #Output layer\n",
        "    \n",
        "    # return the constructed network architecture\n",
        "    return model"
      ]
    },
    {
      "cell_type": "code",
      "execution_count": null,
      "metadata": {
        "colab": {
          "base_uri": "https://localhost:8080/"
        },
        "id": "eP-X_bzU8Q3B",
        "outputId": "4d963f3e-e693-4a6e-cef2-011ddf167531"
      },
      "outputs": [
        {
          "name": "stdout",
          "output_type": "stream",
          "text": [
            "Model: \"sequential_2\"\n",
            "_________________________________________________________________\n",
            " Layer (type)                Output Shape              Param #   \n",
            "=================================================================\n",
            " conv2d_4 (Conv2D)           (None, 28, 28, 6)         156       \n",
            "                                                                 \n",
            " batch_normalization_4 (Batc  (None, 28, 28, 6)        24        \n",
            " hNormalization)                                                 \n",
            "                                                                 \n",
            " average_pooling2d_4 (Averag  (None, 14, 14, 6)        0         \n",
            " ePooling2D)                                                     \n",
            "                                                                 \n",
            " conv2d_5 (Conv2D)           (None, 10, 10, 16)        2416      \n",
            "                                                                 \n",
            " batch_normalization_5 (Batc  (None, 10, 10, 16)       64        \n",
            " hNormalization)                                                 \n",
            "                                                                 \n",
            " average_pooling2d_5 (Averag  (None, 5, 5, 16)         0         \n",
            " ePooling2D)                                                     \n",
            "                                                                 \n",
            " flatten_2 (Flatten)         (None, 400)               0         \n",
            "                                                                 \n",
            " dense_6 (Dense)             (None, 120)               48120     \n",
            "                                                                 \n",
            " dense_7 (Dense)             (None, 84)                10164     \n",
            "                                                                 \n",
            " dense_8 (Dense)             (None, 10)                850       \n",
            "                                                                 \n",
            "=================================================================\n",
            "Total params: 61,794\n",
            "Trainable params: 61,750\n",
            "Non-trainable params: 44\n",
            "_________________________________________________________________\n"
          ]
        }
      ],
      "source": [
        "# create a model object for testing purposes\n",
        "model = LeNet.build(28,28,1,10,activation_function = 'tanh',batch_norm=True, dropout=0.0,)\n",
        "\n",
        "# summarize layers\n",
        "model.summary()"
      ]
    },
    {
      "cell_type": "markdown",
      "metadata": {
        "id": "ldOQrWhMUMjO"
      },
      "source": [
        "## Step 03: Hyperparameter Definition\n",
        "\n",
        "Sweeps is a Weights and Biases tool for easy Hyperparameter Tuning visualization. Here I define the parameters to be tested and their testing values."
      ]
    },
    {
      "cell_type": "code",
      "execution_count": null,
      "metadata": {
        "colab": {
          "base_uri": "https://localhost:8080/"
        },
        "id": "JIu896lNURHZ",
        "outputId": "9ab3cb47-31b7-4b5a-f72c-f80f5ea307ba"
      },
      "outputs": [
        {
          "name": "stdout",
          "output_type": "stream",
          "text": [
            "Create sweep with ID: 1tomkau0\n",
            "Sweep URL: https://wandb.ai/mtxslv/lenet-5-assignment/sweeps/1tomkau0\n"
          ]
        }
      ],
      "source": [
        "hyperp = {\n",
        "    'dropout':{\n",
        "        'values': [0.0,0.1, 0.5]\n",
        "    },\n",
        "    'batch_norm': {\n",
        "        'values':[True,False] \n",
        "    },\n",
        "    'activation_function':{\n",
        "        'values':['tanh','relu']\n",
        "    }\n",
        "}\n",
        "sweep_config = {\n",
        "    'method': 'grid',\n",
        "    'metric':{\n",
        "        'name': 'best_loss',\n",
        "        'goal': 'minimize'\n",
        "    },\n",
        "    'parameters': hyperp\n",
        "}\n",
        "sweep_id = wandb.sweep(sweep_config, entity=\"mtxslv\", project=args[\"project_name\"])"
      ]
    },
    {
      "cell_type": "markdown",
      "metadata": {
        "id": "UHbHH9ujABI7"
      },
      "source": [
        "## Step 04: LeNet-5 on MNIST (Sweeps)"
      ]
    },
    {
      "cell_type": "markdown",
      "metadata": {
        "id": "9f0aWuT2CbNI"
      },
      "source": [
        "### Fetch, Preprocessing and Data Segregation"
      ]
    },
    {
      "cell_type": "code",
      "execution_count": null,
      "metadata": {
        "colab": {
          "base_uri": "https://localhost:8080/"
        },
        "id": "r-oEe_72ADE4",
        "outputId": "db786581-5350-4354-fbc0-7f1f8ba514bd"
      },
      "outputs": [
        {
          "name": "stderr",
          "output_type": "stream",
          "text": [
            "30-10-2022 18:07:53 [INFO] accessing MNIST...\n",
            "30-10-2022 18:07:54 Train x: (60000, 28, 28)\n",
            "30-10-2022 18:07:54 Train y: (60000,)\n",
            "30-10-2022 18:07:54 Test x: (10000, 28, 28)\n",
            "30-10-2022 18:07:54 Test y: (10000,)\n"
          ]
        }
      ],
      "source": [
        "# grab the MNIST dataset (if this is your first time using this\n",
        "# dataset then the 11MB download may take a second)\n",
        "logger.info(\"[INFO] accessing MNIST...\")\n",
        "((train_x, train_y), (test_x, test_y)) = mnist.load_data()\n",
        "\n",
        "logger.info(\"Train x: {}\".format(train_x.shape))\n",
        "logger.info(\"Train y: {}\".format(train_y.shape))\n",
        "logger.info(\"Test x: {}\".format(test_x.shape))\n",
        "logger.info(\"Test y: {}\".format(test_y.shape))"
      ]
    },
    {
      "cell_type": "code",
      "execution_count": null,
      "metadata": {
        "id": "y1R74jjyBP_J"
      },
      "outputs": [],
      "source": [
        "# if we are using \"channels first\" ordering, then reshape the\n",
        "# design matrix such that the matrix is:\n",
        "# num_samples x depth x rows x columns\n",
        "if K.image_data_format() == \"channels_first\":\n",
        "\ttrain_x = train_x.reshape((train_x.shape[0], 1, 28, 28))\n",
        "\ttest_x = test_x.reshape((test_x.shape[0], 1, 28, 28))\n",
        " \n",
        "# otherwise, we are using \"channels last\" ordering, so the design\n",
        "# matrix shape should be: num_samples x rows x columns x depth\n",
        "else:\n",
        "\ttrain_x = train_x.reshape((train_x.shape[0], 28, 28, 1))\n",
        "\ttest_x = test_x.reshape((test_x.shape[0], 28, 28, 1))"
      ]
    },
    {
      "cell_type": "code",
      "execution_count": null,
      "metadata": {
        "colab": {
          "base_uri": "https://localhost:8080/"
        },
        "id": "N8_HHtVNB-99",
        "outputId": "580744d1-1d00-4fad-a5d6-d116517245e9"
      },
      "outputs": [
        {
          "name": "stderr",
          "output_type": "stream",
          "text": [
            "30-10-2022 18:07:54 Train x: (60000, 28, 28, 1)\n",
            "30-10-2022 18:07:54 Train y: (60000,)\n",
            "30-10-2022 18:07:54 Test x: (10000, 28, 28, 1)\n",
            "30-10-2022 18:07:54 Test y: (10000,)\n"
          ]
        }
      ],
      "source": [
        "logger.info(\"Train x: {}\".format(train_x.shape))\n",
        "logger.info(\"Train y: {}\".format(train_y.shape))\n",
        "logger.info(\"Test x: {}\".format(test_x.shape))\n",
        "logger.info(\"Test y: {}\".format(test_y.shape))"
      ]
    },
    {
      "cell_type": "code",
      "execution_count": null,
      "metadata": {
        "id": "881MdBT4CDCe"
      },
      "outputs": [],
      "source": [
        "# scale data to the range of [0, 1]\n",
        "train_x = train_x.astype(\"float32\") / 255.0\n",
        "test_x = test_x.astype(\"float32\") / 255.0\n",
        "\n",
        "# convert the labels from integers to vectors\n",
        "lb = LabelBinarizer()\n",
        "train_y = lb.fit_transform(train_y)\n",
        "test_y = lb.transform(test_y)"
      ]
    },
    {
      "cell_type": "markdown",
      "metadata": {
        "id": "urEHaMh7CUDC"
      },
      "source": [
        "### Training Function (necessary for Sweeps use)"
      ]
    },
    {
      "cell_type": "code",
      "execution_count": null,
      "metadata": {
        "id": "CloHYz5I_BWi"
      },
      "outputs": [],
      "source": [
        "def train():\n",
        "  # define run\n",
        "  run = wandb.init(entity=\"mtxslv\",\n",
        "                   project=args[\"project_name\"], \n",
        "                   job_type=\"Train\")\n",
        "  # initial config for running the first sweep\n",
        "  config = {\n",
        "      'activation_function': 'tanh',\n",
        "      'batch_norm' : False, \n",
        "      'dropout' : 0.0\n",
        "  }\n",
        "  # create codecarbon tracker\n",
        "  # codecarbon is too much verbose, change the log level for more info\n",
        "  tracker = EmissionsTracker(log_level=\"critical\")\n",
        "  tracker.start()\n",
        "\n",
        "  # initialize the optimizer and model\n",
        "  logger.info(\"[INFO] compiling model...\")\n",
        "  opt = Adam(learning_rate=0.01)\n",
        "  model = LeNet.build(width=28, \n",
        "                      height=28, \n",
        "                      depth=1, \n",
        "                      classes=10,\n",
        "                      activation_function = wandb.config.activation_function,\n",
        "                      batch_norm = wandb.config.batch_norm, \n",
        "                      dropout = wandb.config.dropout)\n",
        "  # compile model\n",
        "  model.compile(loss=\"categorical_crossentropy\", optimizer=opt,\n",
        "                metrics=[\"accuracy\"])\n",
        "\n",
        "  # train the network\n",
        "  logger.info(\"[INFO] training network...\")\n",
        "  history = model.fit(train_x, train_y,\n",
        "                validation_data=(test_x, test_y),\n",
        "                batch_size=32,\n",
        "                epochs=20, \n",
        "                verbose=0,\n",
        "                callbacks=[wandb.keras.WandbCallback(save_model=False,\n",
        "                                                    compute_flops=True)])\n",
        "\n",
        "  # get co2 emissions from tracker\n",
        "  # \"CO2 emission (in Kg)\"\n",
        "  emissions = tracker.stop()\n",
        "\n",
        "  predictions = model.predict(test_x, batch_size=32)\n",
        "  fig_confusion_matrix, ax = plt.subplots(1,1,figsize=(7,4))\n",
        "  ConfusionMatrixDisplay(confusion_matrix(predictions.argmax(axis=1),\n",
        "                                          test_y.argmax(axis=1)),\n",
        "                        display_labels=lb.classes_).plot(values_format=\".0f\",ax=ax)\n",
        "\n",
        "  ax.set_xlabel(\"True Label\")\n",
        "  ax.set_ylabel(\"Predicted Label\")\n",
        "  ax.grid(False)\n",
        "\n",
        "  # Uploading figures\n",
        "  logger.info(\"Uploading figures\")\n",
        "  run.log(\n",
        "      {\n",
        "          \"confusion_matrix\": wandb.Image(fig_confusion_matrix),\n",
        "          # \"other_figure\": wandb.Image(other_fig)\n",
        "      }\n",
        "  )\n",
        "  # Evaluation Metrics\n",
        "  logger.info(\"Validation Evaluation metrics\")\n",
        "  fbeta = fbeta_score(test_y.argmax(axis=1), \n",
        "                      predictions.argmax(axis=1), \n",
        "                      beta=1, zero_division=1,average='weighted')\n",
        "  precision = precision_score(test_y.argmax(axis=1),\n",
        "                              predictions.argmax(axis=1),\n",
        "                              zero_division=1,average='weighted')\n",
        "  recall = recall_score(test_y.argmax(axis=1),\n",
        "                        predictions.argmax(axis=1),\n",
        "                        zero_division=1,average='weighted')\n",
        "  acc = accuracy_score(test_y.argmax(axis=1),\n",
        "                      predictions.argmax(axis=1))\n",
        "\n",
        "  logger.info(\"Validation Accuracy: {}\".format(acc))\n",
        "  logger.info(\"Validation Precision: {}\".format(precision))\n",
        "  logger.info(\"Validation Recall: {}\".format(recall))\n",
        "  logger.info(\"Validation F1: {}\".format(fbeta))\n",
        "\n",
        "  run.summary[\"Acc\"] = acc\n",
        "  run.summary[\"Precision\"] = precision\n",
        "  run.summary[\"Recall\"] = recall\n",
        "  run.summary[\"F1\"] = fbeta\n",
        "  # number of parameters\n",
        "  run.summary[\"Count_Params\"] = model.count_params()\n",
        "  # energy unit is kWh\n",
        "  run.summary[\"Energy_Consumed\"] = tracker.final_emissions_data.energy_consumed\n",
        "  run.summary[\"Energy_RAM\"] = tracker.final_emissions_data.ram_energy\n",
        "  run.summary[\"Energy_GPU\"] = tracker.final_emissions_data.gpu_energy\n",
        "  run.summary[\"Energy_CPU\"] = tracker.final_emissions_data.cpu_energy\n",
        "  # kg\n",
        "  run.summary[\"CO2_Emissions\"] = tracker.final_emissions_data.emissions"
      ]
    },
    {
      "cell_type": "markdown",
      "metadata": {
        "id": "e8xEw1Czr6ra"
      },
      "source": [
        "### WandB Agent"
      ]
    },
    {
      "cell_type": "code",
      "execution_count": null,
      "metadata": {
        "colab": {
          "base_uri": "https://localhost:8080/",
          "height": 1000,
          "referenced_widgets": [
            "2de170d72ace4914b9da65594bd1544c",
            "780213cd6c154f8ea72ebbb2302c0e06",
            "9e0183ad4c444c1cb0364c82824484d3",
            "2ce93afe886c4e648cbea9fcf278f7f8",
            "0c6267279cdb4c9cad7f0d38ddeedaaf",
            "39c1cea5ee2b4d67b1ddbccfb496ed7b",
            "b3c8b13b592e44159314ca08c8b4ddbd",
            "809e1462e67f40bebe151bcf2d9e4b4b",
            "060a8ffcf10c4943a1c0a34e8f3ac7ce",
            "d180416cd6bb49b9958e083317e9c376",
            "b2aeede8ad014f77b9e4eca4ab53548c",
            "b138936614ef4eb2b8cd6607dc31d627",
            "215292f7511d4c859a87199b43f197a9",
            "320e220271154a0dbc92fb1a58818a18",
            "bb8d97e6cd0c4a79aa2ca9d2498eeb51",
            "9c87c302f7374681ace34aa4d4b1a2de"
          ]
        },
        "id": "MC8BK_6YDtPB",
        "outputId": "b2bf3085-177c-4404-d12f-738ddf9b669a"
      },
      "outputs": [
        {
          "name": "stderr",
          "output_type": "stream",
          "text": [
            "\u001b[34m\u001b[1mwandb\u001b[0m: Agent Starting Run: tjj9p1rk with config:\n",
            "\u001b[34m\u001b[1mwandb\u001b[0m: \tactivation_function: tanh\n",
            "\u001b[34m\u001b[1mwandb\u001b[0m: \tbatch_norm: True\n",
            "\u001b[34m\u001b[1mwandb\u001b[0m: \tdropout: 0\n",
            "Failed to detect the name of this notebook, you can set it manually with the WANDB_NOTEBOOK_NAME environment variable to enable code saving.\n",
            "\u001b[34m\u001b[1mwandb\u001b[0m: \u001b[33mWARNING\u001b[0m Ignored wandb.init() arg project when running a sweep.\n",
            "\u001b[34m\u001b[1mwandb\u001b[0m: \u001b[33mWARNING\u001b[0m Ignored wandb.init() arg entity when running a sweep.\n"
          ]
        },
        {
          "data": {
            "text/html": [
              "Tracking run with wandb version 0.13.4"
            ],
            "text/plain": [
              "<IPython.core.display.HTML object>"
            ]
          },
          "metadata": {},
          "output_type": "display_data"
        },
        {
          "data": {
            "text/html": [
              "Run data is saved locally in <code>/content/wandb/run-20221030_180758-tjj9p1rk</code>"
            ],
            "text/plain": [
              "<IPython.core.display.HTML object>"
            ]
          },
          "metadata": {},
          "output_type": "display_data"
        },
        {
          "data": {
            "text/html": [
              "Syncing run <strong><a href=\"https://wandb.ai/mtxslv/lenet-5-assignment/runs/tjj9p1rk\" target=\"_blank\">worldly-sweep-1</a></strong> to <a href=\"https://wandb.ai/mtxslv/lenet-5-assignment\" target=\"_blank\">Weights & Biases</a> (<a href=\"https://wandb.me/run\" target=\"_blank\">docs</a>)<br/>Sweep page:  <a href=\"https://wandb.ai/mtxslv/lenet-5-assignment/sweeps/1tomkau0\" target=\"_blank\">https://wandb.ai/mtxslv/lenet-5-assignment/sweeps/1tomkau0</a>"
            ],
            "text/plain": [
              "<IPython.core.display.HTML object>"
            ]
          },
          "metadata": {},
          "output_type": "display_data"
        },
        {
          "name": "stderr",
          "output_type": "stream",
          "text": [
            "30-10-2022 18:08:03 [INFO] compiling model...\n",
            "30-10-2022 18:08:03 [INFO] training network...\n"
          ]
        },
        {
          "name": "stdout",
          "output_type": "stream",
          "text": [
            "313/313 [==============================] - 1s 2ms/step\n"
          ]
        },
        {
          "name": "stderr",
          "output_type": "stream",
          "text": [
            "30-10-2022 18:10:28 Uploading figures\n",
            "30-10-2022 18:10:28 Validation Evaluation metrics\n",
            "30-10-2022 18:10:28 Validation Accuracy: 0.9039\n",
            "30-10-2022 18:10:28 Validation Precision: 0.9127334926035406\n",
            "30-10-2022 18:10:28 Validation Recall: 0.9039\n",
            "30-10-2022 18:10:28 Validation F1: 0.905282038454233\n"
          ]
        },
        {
          "data": {
            "text/html": [
              "Waiting for W&B process to finish... <strong style=\"color:green\">(success).</strong>"
            ],
            "text/plain": [
              "<IPython.core.display.HTML object>"
            ]
          },
          "metadata": {},
          "output_type": "display_data"
        },
        {
          "data": {
            "text/html": [
              "<style>\n",
              "    table.wandb td:nth-child(1) { padding: 0 10px; text-align: left ; width: auto;} td:nth-child(2) {text-align: left ; width: 100%}\n",
              "    .wandb-row { display: flex; flex-direction: row; flex-wrap: wrap; justify-content: flex-start; width: 100% }\n",
              "    .wandb-col { display: flex; flex-direction: column; flex-basis: 100%; flex: 1; padding: 10px; }\n",
              "    </style>\n",
              "<div class=\"wandb-row\"><div class=\"wandb-col\"><h3>Run history:</h3><br/><table class=\"wandb\"><tr><td>accuracy</td><td>▆████▆▇▆▆▆▅▇▅▄▅▅▂▁▂▁</td></tr><tr><td>epoch</td><td>▁▁▂▂▂▃▃▄▄▄▅▅▅▆▆▇▇▇██</td></tr><tr><td>loss</td><td>▃▁▁▁▁▃▂▃▃▃▄▂▄▅▄▄██▇█</td></tr><tr><td>val_accuracy</td><td>▇▅▆▇█▇▆▃▆▄▇▇▅▇▆▄▁▂▂▁</td></tr><tr><td>val_loss</td><td>▁▅▄▂▁▃▃▆▃▅▃▂▃▂▄▅█▆▇█</td></tr></table><br/></div><div class=\"wandb-col\"><h3>Run summary:</h3><br/><table class=\"wandb\"><tr><td>Acc</td><td>0.9039</td></tr><tr><td>CO2_Emissions</td><td>0.00191</td></tr><tr><td>Count_Params</td><td>61794</td></tr><tr><td>Energy_CPU</td><td>0.00169</td></tr><tr><td>Energy_Consumed</td><td>0.00303</td></tr><tr><td>Energy_GPU</td><td>0.00115</td></tr><tr><td>Energy_RAM</td><td>0.00019</td></tr><tr><td>F1</td><td>0.90528</td></tr><tr><td>GFLOPs</td><td>0.00042</td></tr><tr><td>Precision</td><td>0.91273</td></tr><tr><td>Recall</td><td>0.9039</td></tr><tr><td>accuracy</td><td>0.90867</td></tr><tr><td>best_epoch</td><td>4</td></tr><tr><td>best_val_loss</td><td>0.1479</td></tr><tr><td>epoch</td><td>19</td></tr><tr><td>loss</td><td>0.29561</td></tr><tr><td>val_accuracy</td><td>0.9039</td></tr><tr><td>val_loss</td><td>0.31619</td></tr></table><br/></div></div>"
            ],
            "text/plain": [
              "<IPython.core.display.HTML object>"
            ]
          },
          "metadata": {},
          "output_type": "display_data"
        },
        {
          "data": {
            "text/html": [
              "Synced <strong style=\"color:#cdcd00\">worldly-sweep-1</strong>: <a href=\"https://wandb.ai/mtxslv/lenet-5-assignment/runs/tjj9p1rk\" target=\"_blank\">https://wandb.ai/mtxslv/lenet-5-assignment/runs/tjj9p1rk</a><br/>Synced 5 W&B file(s), 1 media file(s), 0 artifact file(s) and 0 other file(s)"
            ],
            "text/plain": [
              "<IPython.core.display.HTML object>"
            ]
          },
          "metadata": {},
          "output_type": "display_data"
        },
        {
          "data": {
            "text/html": [
              "Find logs at: <code>./wandb/run-20221030_180758-tjj9p1rk/logs</code>"
            ],
            "text/plain": [
              "<IPython.core.display.HTML object>"
            ]
          },
          "metadata": {},
          "output_type": "display_data"
        },
        {
          "name": "stderr",
          "output_type": "stream",
          "text": [
            "\u001b[34m\u001b[1mwandb\u001b[0m: Agent Starting Run: j6em09lp with config:\n",
            "\u001b[34m\u001b[1mwandb\u001b[0m: \tactivation_function: tanh\n",
            "\u001b[34m\u001b[1mwandb\u001b[0m: \tbatch_norm: True\n",
            "\u001b[34m\u001b[1mwandb\u001b[0m: \tdropout: 0.1\n",
            "Failed to detect the name of this notebook, you can set it manually with the WANDB_NOTEBOOK_NAME environment variable to enable code saving.\n",
            "\u001b[34m\u001b[1mwandb\u001b[0m: \u001b[33mWARNING\u001b[0m Ignored wandb.init() arg project when running a sweep.\n",
            "\u001b[34m\u001b[1mwandb\u001b[0m: \u001b[33mWARNING\u001b[0m Ignored wandb.init() arg entity when running a sweep.\n"
          ]
        },
        {
          "data": {
            "text/html": [
              "Tracking run with wandb version 0.13.4"
            ],
            "text/plain": [
              "<IPython.core.display.HTML object>"
            ]
          },
          "metadata": {},
          "output_type": "display_data"
        },
        {
          "data": {
            "text/html": [
              "Run data is saved locally in <code>/content/wandb/run-20221030_181041-j6em09lp</code>"
            ],
            "text/plain": [
              "<IPython.core.display.HTML object>"
            ]
          },
          "metadata": {},
          "output_type": "display_data"
        },
        {
          "data": {
            "text/html": [
              "Syncing run <strong><a href=\"https://wandb.ai/mtxslv/lenet-5-assignment/runs/j6em09lp\" target=\"_blank\">comic-sweep-2</a></strong> to <a href=\"https://wandb.ai/mtxslv/lenet-5-assignment\" target=\"_blank\">Weights & Biases</a> (<a href=\"https://wandb.me/run\" target=\"_blank\">docs</a>)<br/>Sweep page:  <a href=\"https://wandb.ai/mtxslv/lenet-5-assignment/sweeps/1tomkau0\" target=\"_blank\">https://wandb.ai/mtxslv/lenet-5-assignment/sweeps/1tomkau0</a>"
            ],
            "text/plain": [
              "<IPython.core.display.HTML object>"
            ]
          },
          "metadata": {},
          "output_type": "display_data"
        },
        {
          "name": "stderr",
          "output_type": "stream",
          "text": [
            "30-10-2022 18:10:45 [INFO] compiling model...\n",
            "30-10-2022 18:10:45 [INFO] training network...\n"
          ]
        },
        {
          "name": "stdout",
          "output_type": "stream",
          "text": [
            "313/313 [==============================] - 1s 2ms/step\n"
          ]
        },
        {
          "name": "stderr",
          "output_type": "stream",
          "text": [
            "30-10-2022 18:12:50 Uploading figures\n",
            "30-10-2022 18:12:51 Validation Evaluation metrics\n",
            "30-10-2022 18:12:51 Validation Accuracy: 0.8862\n",
            "30-10-2022 18:12:51 Validation Precision: 0.8896440634123528\n",
            "30-10-2022 18:12:51 Validation Recall: 0.8862\n",
            "30-10-2022 18:12:51 Validation F1: 0.8863021011290966\n"
          ]
        },
        {
          "data": {
            "text/html": [
              "Waiting for W&B process to finish... <strong style=\"color:green\">(success).</strong>"
            ],
            "text/plain": [
              "<IPython.core.display.HTML object>"
            ]
          },
          "metadata": {},
          "output_type": "display_data"
        },
        {
          "data": {
            "application/vnd.jupyter.widget-view+json": {
              "model_id": "2de170d72ace4914b9da65594bd1544c",
              "version_major": 2,
              "version_minor": 0
            },
            "text/plain": [
              "VBox(children=(Label(value='0.026 MB of 0.026 MB uploaded (0.000 MB deduped)\\r'), FloatProgress(value=1.0, max…"
            ]
          },
          "metadata": {},
          "output_type": "display_data"
        },
        {
          "data": {
            "text/html": [
              "<style>\n",
              "    table.wandb td:nth-child(1) { padding: 0 10px; text-align: left ; width: auto;} td:nth-child(2) {text-align: left ; width: 100%}\n",
              "    .wandb-row { display: flex; flex-direction: row; flex-wrap: wrap; justify-content: flex-start; width: 100% }\n",
              "    .wandb-col { display: flex; flex-direction: column; flex-basis: 100%; flex: 1; padding: 10px; }\n",
              "    </style>\n",
              "<div class=\"wandb-row\"><div class=\"wandb-col\"><h3>Run history:</h3><br/><table class=\"wandb\"><tr><td>accuracy</td><td>▆███▇▆▇▅▅▅▆▄▆▆▆▃▄▄▅▁</td></tr><tr><td>epoch</td><td>▁▁▂▂▂▃▃▄▄▄▅▅▅▆▆▇▇▇██</td></tr><tr><td>loss</td><td>▃▂▁▁▂▃▂▃▃▄▃▅▃▃▃▅▅▅▄█</td></tr><tr><td>val_accuracy</td><td>█▆██▅▇▆▆▆▆▄▆▇▅▆▂▇▅▆▁</td></tr><tr><td>val_loss</td><td>▁▃▁▁▄▁▂▃▃▃▅▃▂▄▃█▂▄▃█</td></tr></table><br/></div><div class=\"wandb-col\"><h3>Run summary:</h3><br/><table class=\"wandb\"><tr><td>Acc</td><td>0.8862</td></tr><tr><td>CO2_Emissions</td><td>0.00169</td></tr><tr><td>Count_Params</td><td>61794</td></tr><tr><td>Energy_CPU</td><td>0.00147</td></tr><tr><td>Energy_Consumed</td><td>0.00268</td></tr><tr><td>Energy_GPU</td><td>0.00104</td></tr><tr><td>Energy_RAM</td><td>0.00016</td></tr><tr><td>F1</td><td>0.8863</td></tr><tr><td>GFLOPs</td><td>0.00042</td></tr><tr><td>Precision</td><td>0.88964</td></tr><tr><td>Recall</td><td>0.8862</td></tr><tr><td>accuracy</td><td>0.88908</td></tr><tr><td>best_epoch</td><td>3</td></tr><tr><td>best_val_loss</td><td>0.14384</td></tr><tr><td>epoch</td><td>19</td></tr><tr><td>loss</td><td>0.36256</td></tr><tr><td>val_accuracy</td><td>0.8862</td></tr><tr><td>val_loss</td><td>0.35721</td></tr></table><br/></div></div>"
            ],
            "text/plain": [
              "<IPython.core.display.HTML object>"
            ]
          },
          "metadata": {},
          "output_type": "display_data"
        },
        {
          "data": {
            "text/html": [
              "Synced <strong style=\"color:#cdcd00\">comic-sweep-2</strong>: <a href=\"https://wandb.ai/mtxslv/lenet-5-assignment/runs/j6em09lp\" target=\"_blank\">https://wandb.ai/mtxslv/lenet-5-assignment/runs/j6em09lp</a><br/>Synced 5 W&B file(s), 1 media file(s), 0 artifact file(s) and 0 other file(s)"
            ],
            "text/plain": [
              "<IPython.core.display.HTML object>"
            ]
          },
          "metadata": {},
          "output_type": "display_data"
        },
        {
          "data": {
            "text/html": [
              "Find logs at: <code>./wandb/run-20221030_181041-j6em09lp/logs</code>"
            ],
            "text/plain": [
              "<IPython.core.display.HTML object>"
            ]
          },
          "metadata": {},
          "output_type": "display_data"
        },
        {
          "name": "stderr",
          "output_type": "stream",
          "text": [
            "\u001b[34m\u001b[1mwandb\u001b[0m: Agent Starting Run: tetnbrh4 with config:\n",
            "\u001b[34m\u001b[1mwandb\u001b[0m: \tactivation_function: tanh\n",
            "\u001b[34m\u001b[1mwandb\u001b[0m: \tbatch_norm: True\n",
            "\u001b[34m\u001b[1mwandb\u001b[0m: \tdropout: 0.5\n",
            "Failed to detect the name of this notebook, you can set it manually with the WANDB_NOTEBOOK_NAME environment variable to enable code saving.\n",
            "\u001b[34m\u001b[1mwandb\u001b[0m: \u001b[33mWARNING\u001b[0m Ignored wandb.init() arg project when running a sweep.\n",
            "\u001b[34m\u001b[1mwandb\u001b[0m: \u001b[33mWARNING\u001b[0m Ignored wandb.init() arg entity when running a sweep.\n"
          ]
        },
        {
          "data": {
            "text/html": [
              "Tracking run with wandb version 0.13.4"
            ],
            "text/plain": [
              "<IPython.core.display.HTML object>"
            ]
          },
          "metadata": {},
          "output_type": "display_data"
        },
        {
          "data": {
            "text/html": [
              "Run data is saved locally in <code>/content/wandb/run-20221030_181258-tetnbrh4</code>"
            ],
            "text/plain": [
              "<IPython.core.display.HTML object>"
            ]
          },
          "metadata": {},
          "output_type": "display_data"
        },
        {
          "data": {
            "text/html": [
              "Syncing run <strong><a href=\"https://wandb.ai/mtxslv/lenet-5-assignment/runs/tetnbrh4\" target=\"_blank\">prime-sweep-3</a></strong> to <a href=\"https://wandb.ai/mtxslv/lenet-5-assignment\" target=\"_blank\">Weights & Biases</a> (<a href=\"https://wandb.me/run\" target=\"_blank\">docs</a>)<br/>Sweep page:  <a href=\"https://wandb.ai/mtxslv/lenet-5-assignment/sweeps/1tomkau0\" target=\"_blank\">https://wandb.ai/mtxslv/lenet-5-assignment/sweeps/1tomkau0</a>"
            ],
            "text/plain": [
              "<IPython.core.display.HTML object>"
            ]
          },
          "metadata": {},
          "output_type": "display_data"
        },
        {
          "name": "stderr",
          "output_type": "stream",
          "text": [
            "30-10-2022 18:13:03 [INFO] compiling model...\n",
            "30-10-2022 18:13:03 [INFO] training network...\n"
          ]
        },
        {
          "name": "stdout",
          "output_type": "stream",
          "text": [
            "313/313 [==============================] - 1s 2ms/step\n"
          ]
        },
        {
          "name": "stderr",
          "output_type": "stream",
          "text": [
            "30-10-2022 18:15:12 Uploading figures\n",
            "30-10-2022 18:15:12 Validation Evaluation metrics\n",
            "30-10-2022 18:15:12 Validation Accuracy: 0.9262\n",
            "30-10-2022 18:15:12 Validation Precision: 0.9278862760156711\n",
            "30-10-2022 18:15:12 Validation Recall: 0.9262\n",
            "30-10-2022 18:15:12 Validation F1: 0.9261657926600984\n"
          ]
        },
        {
          "data": {
            "text/html": [
              "Waiting for W&B process to finish... <strong style=\"color:green\">(success).</strong>"
            ],
            "text/plain": [
              "<IPython.core.display.HTML object>"
            ]
          },
          "metadata": {},
          "output_type": "display_data"
        },
        {
          "data": {
            "application/vnd.jupyter.widget-view+json": {
              "model_id": "060a8ffcf10c4943a1c0a34e8f3ac7ce",
              "version_major": 2,
              "version_minor": 0
            },
            "text/plain": [
              "VBox(children=(Label(value='0.025 MB of 0.025 MB uploaded (0.000 MB deduped)\\r'), FloatProgress(value=1.0, max…"
            ]
          },
          "metadata": {},
          "output_type": "display_data"
        },
        {
          "data": {
            "text/html": [
              "<style>\n",
              "    table.wandb td:nth-child(1) { padding: 0 10px; text-align: left ; width: auto;} td:nth-child(2) {text-align: left ; width: 100%}\n",
              "    .wandb-row { display: flex; flex-direction: row; flex-wrap: wrap; justify-content: flex-start; width: 100% }\n",
              "    .wandb-col { display: flex; flex-direction: column; flex-basis: 100%; flex: 1; padding: 10px; }\n",
              "    </style>\n",
              "<div class=\"wandb-row\"><div class=\"wandb-col\"><h3>Run history:</h3><br/><table class=\"wandb\"><tr><td>accuracy</td><td>▄███▇▆▇▅▅▄▂▁▃▄▄▁▂▅▃▁</td></tr><tr><td>epoch</td><td>▁▁▂▂▂▃▃▄▄▄▅▅▅▆▆▇▇▇██</td></tr><tr><td>loss</td><td>▄▁▁▁▂▃▂▄▅▅▇█▆▅▅█▇▅▆▇</td></tr><tr><td>val_accuracy</td><td>▄▇▆▆▇█▇▇▆▁▅▆▆▇▆▅▆▆▆▄</td></tr><tr><td>val_loss</td><td>▄▂▃▃▂▁▁▂▃█▄▄▃▂▂▄▃▃▃▅</td></tr></table><br/></div><div class=\"wandb-col\"><h3>Run summary:</h3><br/><table class=\"wandb\"><tr><td>Acc</td><td>0.9262</td></tr><tr><td>CO2_Emissions</td><td>0.00174</td></tr><tr><td>Count_Params</td><td>61794</td></tr><tr><td>Energy_CPU</td><td>0.00152</td></tr><tr><td>Energy_Consumed</td><td>0.00276</td></tr><tr><td>Energy_GPU</td><td>0.00107</td></tr><tr><td>Energy_RAM</td><td>0.00017</td></tr><tr><td>F1</td><td>0.92617</td></tr><tr><td>GFLOPs</td><td>0.00042</td></tr><tr><td>Precision</td><td>0.92789</td></tr><tr><td>Recall</td><td>0.9262</td></tr><tr><td>accuracy</td><td>0.82178</td></tr><tr><td>best_epoch</td><td>5</td></tr><tr><td>best_val_loss</td><td>0.16443</td></tr><tr><td>epoch</td><td>19</td></tr><tr><td>loss</td><td>0.58258</td></tr><tr><td>val_accuracy</td><td>0.9262</td></tr><tr><td>val_loss</td><td>0.25832</td></tr></table><br/></div></div>"
            ],
            "text/plain": [
              "<IPython.core.display.HTML object>"
            ]
          },
          "metadata": {},
          "output_type": "display_data"
        },
        {
          "data": {
            "text/html": [
              "Synced <strong style=\"color:#cdcd00\">prime-sweep-3</strong>: <a href=\"https://wandb.ai/mtxslv/lenet-5-assignment/runs/tetnbrh4\" target=\"_blank\">https://wandb.ai/mtxslv/lenet-5-assignment/runs/tetnbrh4</a><br/>Synced 5 W&B file(s), 1 media file(s), 0 artifact file(s) and 0 other file(s)"
            ],
            "text/plain": [
              "<IPython.core.display.HTML object>"
            ]
          },
          "metadata": {},
          "output_type": "display_data"
        },
        {
          "data": {
            "text/html": [
              "Find logs at: <code>./wandb/run-20221030_181258-tetnbrh4/logs</code>"
            ],
            "text/plain": [
              "<IPython.core.display.HTML object>"
            ]
          },
          "metadata": {},
          "output_type": "display_data"
        },
        {
          "name": "stderr",
          "output_type": "stream",
          "text": [
            "\u001b[34m\u001b[1mwandb\u001b[0m: Agent Starting Run: 0qznlhmz with config:\n",
            "\u001b[34m\u001b[1mwandb\u001b[0m: \tactivation_function: tanh\n",
            "\u001b[34m\u001b[1mwandb\u001b[0m: \tbatch_norm: False\n",
            "\u001b[34m\u001b[1mwandb\u001b[0m: \tdropout: 0\n",
            "Failed to detect the name of this notebook, you can set it manually with the WANDB_NOTEBOOK_NAME environment variable to enable code saving.\n",
            "\u001b[34m\u001b[1mwandb\u001b[0m: \u001b[33mWARNING\u001b[0m Ignored wandb.init() arg project when running a sweep.\n",
            "\u001b[34m\u001b[1mwandb\u001b[0m: \u001b[33mWARNING\u001b[0m Ignored wandb.init() arg entity when running a sweep.\n"
          ]
        },
        {
          "data": {
            "text/html": [
              "Tracking run with wandb version 0.13.4"
            ],
            "text/plain": [
              "<IPython.core.display.HTML object>"
            ]
          },
          "metadata": {},
          "output_type": "display_data"
        },
        {
          "data": {
            "text/html": [
              "Run data is saved locally in <code>/content/wandb/run-20221030_181526-0qznlhmz</code>"
            ],
            "text/plain": [
              "<IPython.core.display.HTML object>"
            ]
          },
          "metadata": {},
          "output_type": "display_data"
        },
        {
          "data": {
            "text/html": [
              "Syncing run <strong><a href=\"https://wandb.ai/mtxslv/lenet-5-assignment/runs/0qznlhmz\" target=\"_blank\">atomic-sweep-4</a></strong> to <a href=\"https://wandb.ai/mtxslv/lenet-5-assignment\" target=\"_blank\">Weights & Biases</a> (<a href=\"https://wandb.me/run\" target=\"_blank\">docs</a>)<br/>Sweep page:  <a href=\"https://wandb.ai/mtxslv/lenet-5-assignment/sweeps/1tomkau0\" target=\"_blank\">https://wandb.ai/mtxslv/lenet-5-assignment/sweeps/1tomkau0</a>"
            ],
            "text/plain": [
              "<IPython.core.display.HTML object>"
            ]
          },
          "metadata": {},
          "output_type": "display_data"
        },
        {
          "name": "stderr",
          "output_type": "stream",
          "text": [
            "30-10-2022 18:15:30 [INFO] compiling model...\n",
            "30-10-2022 18:15:30 [INFO] training network...\n"
          ]
        },
        {
          "name": "stdout",
          "output_type": "stream",
          "text": [
            "313/313 [==============================] - 1s 2ms/step\n"
          ]
        },
        {
          "name": "stderr",
          "output_type": "stream",
          "text": [
            "30-10-2022 18:17:53 Uploading figures\n",
            "30-10-2022 18:17:53 Validation Evaluation metrics\n",
            "30-10-2022 18:17:54 Validation Accuracy: 0.9614\n",
            "30-10-2022 18:17:54 Validation Precision: 0.9617197827308998\n",
            "30-10-2022 18:17:54 Validation Recall: 0.9614\n",
            "30-10-2022 18:17:54 Validation F1: 0.961409737857637\n"
          ]
        },
        {
          "data": {
            "text/html": [
              "Waiting for W&B process to finish... <strong style=\"color:green\">(success).</strong>"
            ],
            "text/plain": [
              "<IPython.core.display.HTML object>"
            ]
          },
          "metadata": {},
          "output_type": "display_data"
        },
        {
          "data": {
            "text/html": [
              "<style>\n",
              "    table.wandb td:nth-child(1) { padding: 0 10px; text-align: left ; width: auto;} td:nth-child(2) {text-align: left ; width: 100%}\n",
              "    .wandb-row { display: flex; flex-direction: row; flex-wrap: wrap; justify-content: flex-start; width: 100% }\n",
              "    .wandb-col { display: flex; flex-direction: column; flex-basis: 100%; flex: 1; padding: 10px; }\n",
              "    </style>\n",
              "<div class=\"wandb-row\"><div class=\"wandb-col\"><h3>Run history:</h3><br/><table class=\"wandb\"><tr><td>accuracy</td><td>▁▅▆▆▇▇▇▇▇█▇████▇▆█▇█</td></tr><tr><td>epoch</td><td>▁▁▂▂▂▃▃▄▄▄▅▅▅▆▆▇▇▇██</td></tr><tr><td>loss</td><td>█▄▃▃▂▂▃▂▂▂▂▁▁▁▁▂▃▁▂▁</td></tr><tr><td>val_accuracy</td><td>▁▅▄▅▆▅▄▆▆▆▇▇█▇▄▆▅▇▆█</td></tr><tr><td>val_loss</td><td>█▄▅▄▃▄▅▃▂▃▃▃▂▃▅▄▄▂▃▁</td></tr></table><br/></div><div class=\"wandb-col\"><h3>Run summary:</h3><br/><table class=\"wandb\"><tr><td>Acc</td><td>0.9614</td></tr><tr><td>CO2_Emissions</td><td>0.00193</td></tr><tr><td>Count_Params</td><td>61706</td></tr><tr><td>Energy_CPU</td><td>0.00168</td></tr><tr><td>Energy_Consumed</td><td>0.00305</td></tr><tr><td>Energy_GPU</td><td>0.00118</td></tr><tr><td>Energy_RAM</td><td>0.00019</td></tr><tr><td>F1</td><td>0.96141</td></tr><tr><td>GFLOPs</td><td>0.00042</td></tr><tr><td>Precision</td><td>0.96172</td></tr><tr><td>Recall</td><td>0.9614</td></tr><tr><td>accuracy</td><td>0.95085</td></tr><tr><td>best_epoch</td><td>19</td></tr><tr><td>best_val_loss</td><td>0.13393</td></tr><tr><td>epoch</td><td>19</td></tr><tr><td>loss</td><td>0.17081</td></tr><tr><td>val_accuracy</td><td>0.9614</td></tr><tr><td>val_loss</td><td>0.13393</td></tr></table><br/></div></div>"
            ],
            "text/plain": [
              "<IPython.core.display.HTML object>"
            ]
          },
          "metadata": {},
          "output_type": "display_data"
        },
        {
          "data": {
            "text/html": [
              "Synced <strong style=\"color:#cdcd00\">atomic-sweep-4</strong>: <a href=\"https://wandb.ai/mtxslv/lenet-5-assignment/runs/0qznlhmz\" target=\"_blank\">https://wandb.ai/mtxslv/lenet-5-assignment/runs/0qznlhmz</a><br/>Synced 5 W&B file(s), 1 media file(s), 0 artifact file(s) and 0 other file(s)"
            ],
            "text/plain": [
              "<IPython.core.display.HTML object>"
            ]
          },
          "metadata": {},
          "output_type": "display_data"
        },
        {
          "data": {
            "text/html": [
              "Find logs at: <code>./wandb/run-20221030_181526-0qznlhmz/logs</code>"
            ],
            "text/plain": [
              "<IPython.core.display.HTML object>"
            ]
          },
          "metadata": {},
          "output_type": "display_data"
        },
        {
          "name": "stderr",
          "output_type": "stream",
          "text": [
            "\u001b[34m\u001b[1mwandb\u001b[0m: Agent Starting Run: 6z11ko7p with config:\n",
            "\u001b[34m\u001b[1mwandb\u001b[0m: \tactivation_function: tanh\n",
            "\u001b[34m\u001b[1mwandb\u001b[0m: \tbatch_norm: False\n",
            "\u001b[34m\u001b[1mwandb\u001b[0m: \tdropout: 0.1\n",
            "Failed to detect the name of this notebook, you can set it manually with the WANDB_NOTEBOOK_NAME environment variable to enable code saving.\n",
            "\u001b[34m\u001b[1mwandb\u001b[0m: \u001b[33mWARNING\u001b[0m Ignored wandb.init() arg project when running a sweep.\n",
            "\u001b[34m\u001b[1mwandb\u001b[0m: \u001b[33mWARNING\u001b[0m Ignored wandb.init() arg entity when running a sweep.\n"
          ]
        },
        {
          "data": {
            "text/html": [
              "Tracking run with wandb version 0.13.4"
            ],
            "text/plain": [
              "<IPython.core.display.HTML object>"
            ]
          },
          "metadata": {},
          "output_type": "display_data"
        },
        {
          "data": {
            "text/html": [
              "Run data is saved locally in <code>/content/wandb/run-20221030_181808-6z11ko7p</code>"
            ],
            "text/plain": [
              "<IPython.core.display.HTML object>"
            ]
          },
          "metadata": {},
          "output_type": "display_data"
        },
        {
          "data": {
            "text/html": [
              "Syncing run <strong><a href=\"https://wandb.ai/mtxslv/lenet-5-assignment/runs/6z11ko7p\" target=\"_blank\">dutiful-sweep-5</a></strong> to <a href=\"https://wandb.ai/mtxslv/lenet-5-assignment\" target=\"_blank\">Weights & Biases</a> (<a href=\"https://wandb.me/run\" target=\"_blank\">docs</a>)<br/>Sweep page:  <a href=\"https://wandb.ai/mtxslv/lenet-5-assignment/sweeps/1tomkau0\" target=\"_blank\">https://wandb.ai/mtxslv/lenet-5-assignment/sweeps/1tomkau0</a>"
            ],
            "text/plain": [
              "<IPython.core.display.HTML object>"
            ]
          },
          "metadata": {},
          "output_type": "display_data"
        },
        {
          "name": "stderr",
          "output_type": "stream",
          "text": [
            "30-10-2022 18:18:13 [INFO] compiling model...\n",
            "30-10-2022 18:18:13 [INFO] training network...\n"
          ]
        },
        {
          "name": "stdout",
          "output_type": "stream",
          "text": [
            "313/313 [==============================] - 1s 2ms/step\n"
          ]
        },
        {
          "name": "stderr",
          "output_type": "stream",
          "text": [
            "30-10-2022 18:20:37 Uploading figures\n",
            "30-10-2022 18:20:37 Validation Evaluation metrics\n",
            "30-10-2022 18:20:37 Validation Accuracy: 0.9588\n",
            "30-10-2022 18:20:37 Validation Precision: 0.9593609575767361\n",
            "30-10-2022 18:20:37 Validation Recall: 0.9588\n",
            "30-10-2022 18:20:37 Validation F1: 0.9587362626820539\n"
          ]
        },
        {
          "data": {
            "text/html": [
              "Waiting for W&B process to finish... <strong style=\"color:green\">(success).</strong>"
            ],
            "text/plain": [
              "<IPython.core.display.HTML object>"
            ]
          },
          "metadata": {},
          "output_type": "display_data"
        },
        {
          "data": {
            "text/html": [
              "<style>\n",
              "    table.wandb td:nth-child(1) { padding: 0 10px; text-align: left ; width: auto;} td:nth-child(2) {text-align: left ; width: 100%}\n",
              "    .wandb-row { display: flex; flex-direction: row; flex-wrap: wrap; justify-content: flex-start; width: 100% }\n",
              "    .wandb-col { display: flex; flex-direction: column; flex-basis: 100%; flex: 1; padding: 10px; }\n",
              "    </style>\n",
              "<div class=\"wandb-row\"><div class=\"wandb-col\"><h3>Run history:</h3><br/><table class=\"wandb\"><tr><td>accuracy</td><td>▁▅▆▆▇▇▇▆▇▇███▇▇▇███▇</td></tr><tr><td>epoch</td><td>▁▁▂▂▂▃▃▄▄▄▅▅▅▆▆▇▇▇██</td></tr><tr><td>loss</td><td>█▄▃▃▂▂▂▂▂▂▁▁▁▂▂▂▁▁▁▂</td></tr><tr><td>val_accuracy</td><td>▅▅▁▅▇▇▇▇██▇██▆▇███▇█</td></tr><tr><td>val_loss</td><td>▄▄█▄▂▃▂▂▁▁▁▁▁▃▂▂▁▁▂▁</td></tr></table><br/></div><div class=\"wandb-col\"><h3>Run summary:</h3><br/><table class=\"wandb\"><tr><td>Acc</td><td>0.9588</td></tr><tr><td>CO2_Emissions</td><td>0.00193</td></tr><tr><td>Count_Params</td><td>61706</td></tr><tr><td>Energy_CPU</td><td>0.00169</td></tr><tr><td>Energy_Consumed</td><td>0.00305</td></tr><tr><td>Energy_GPU</td><td>0.00118</td></tr><tr><td>Energy_RAM</td><td>0.00019</td></tr><tr><td>F1</td><td>0.95874</td></tr><tr><td>GFLOPs</td><td>0.00042</td></tr><tr><td>Precision</td><td>0.95936</td></tr><tr><td>Recall</td><td>0.9588</td></tr><tr><td>accuracy</td><td>0.93822</td></tr><tr><td>best_epoch</td><td>12</td></tr><tr><td>best_val_loss</td><td>0.14244</td></tr><tr><td>epoch</td><td>19</td></tr><tr><td>loss</td><td>0.21068</td></tr><tr><td>val_accuracy</td><td>0.9588</td></tr><tr><td>val_loss</td><td>0.14494</td></tr></table><br/></div></div>"
            ],
            "text/plain": [
              "<IPython.core.display.HTML object>"
            ]
          },
          "metadata": {},
          "output_type": "display_data"
        },
        {
          "data": {
            "text/html": [
              "Synced <strong style=\"color:#cdcd00\">dutiful-sweep-5</strong>: <a href=\"https://wandb.ai/mtxslv/lenet-5-assignment/runs/6z11ko7p\" target=\"_blank\">https://wandb.ai/mtxslv/lenet-5-assignment/runs/6z11ko7p</a><br/>Synced 5 W&B file(s), 1 media file(s), 0 artifact file(s) and 0 other file(s)"
            ],
            "text/plain": [
              "<IPython.core.display.HTML object>"
            ]
          },
          "metadata": {},
          "output_type": "display_data"
        },
        {
          "data": {
            "text/html": [
              "Find logs at: <code>./wandb/run-20221030_181808-6z11ko7p/logs</code>"
            ],
            "text/plain": [
              "<IPython.core.display.HTML object>"
            ]
          },
          "metadata": {},
          "output_type": "display_data"
        },
        {
          "name": "stderr",
          "output_type": "stream",
          "text": [
            "\u001b[34m\u001b[1mwandb\u001b[0m: Agent Starting Run: wlaayouw with config:\n",
            "\u001b[34m\u001b[1mwandb\u001b[0m: \tactivation_function: tanh\n",
            "\u001b[34m\u001b[1mwandb\u001b[0m: \tbatch_norm: False\n",
            "\u001b[34m\u001b[1mwandb\u001b[0m: \tdropout: 0.5\n",
            "Failed to detect the name of this notebook, you can set it manually with the WANDB_NOTEBOOK_NAME environment variable to enable code saving.\n",
            "\u001b[34m\u001b[1mwandb\u001b[0m: \u001b[33mWARNING\u001b[0m Ignored wandb.init() arg project when running a sweep.\n",
            "\u001b[34m\u001b[1mwandb\u001b[0m: \u001b[33mWARNING\u001b[0m Ignored wandb.init() arg entity when running a sweep.\n"
          ]
        },
        {
          "data": {
            "text/html": [
              "Tracking run with wandb version 0.13.4"
            ],
            "text/plain": [
              "<IPython.core.display.HTML object>"
            ]
          },
          "metadata": {},
          "output_type": "display_data"
        },
        {
          "data": {
            "text/html": [
              "Run data is saved locally in <code>/content/wandb/run-20221030_182052-wlaayouw</code>"
            ],
            "text/plain": [
              "<IPython.core.display.HTML object>"
            ]
          },
          "metadata": {},
          "output_type": "display_data"
        },
        {
          "data": {
            "text/html": [
              "Syncing run <strong><a href=\"https://wandb.ai/mtxslv/lenet-5-assignment/runs/wlaayouw\" target=\"_blank\">rosy-sweep-6</a></strong> to <a href=\"https://wandb.ai/mtxslv/lenet-5-assignment\" target=\"_blank\">Weights & Biases</a> (<a href=\"https://wandb.me/run\" target=\"_blank\">docs</a>)<br/>Sweep page:  <a href=\"https://wandb.ai/mtxslv/lenet-5-assignment/sweeps/1tomkau0\" target=\"_blank\">https://wandb.ai/mtxslv/lenet-5-assignment/sweeps/1tomkau0</a>"
            ],
            "text/plain": [
              "<IPython.core.display.HTML object>"
            ]
          },
          "metadata": {},
          "output_type": "display_data"
        },
        {
          "name": "stderr",
          "output_type": "stream",
          "text": [
            "30-10-2022 18:20:57 [INFO] compiling model...\n",
            "30-10-2022 18:20:58 [INFO] training network...\n"
          ]
        },
        {
          "name": "stdout",
          "output_type": "stream",
          "text": [
            "313/313 [==============================] - 1s 2ms/step\n"
          ]
        },
        {
          "name": "stderr",
          "output_type": "stream",
          "text": [
            "30-10-2022 18:23:21 Uploading figures\n",
            "30-10-2022 18:23:21 Validation Evaluation metrics\n",
            "30-10-2022 18:23:21 Validation Accuracy: 0.9475\n",
            "30-10-2022 18:23:21 Validation Precision: 0.9477035988970552\n",
            "30-10-2022 18:23:21 Validation Recall: 0.9475\n",
            "30-10-2022 18:23:21 Validation F1: 0.9473165228033001\n"
          ]
        },
        {
          "data": {
            "text/html": [
              "Waiting for W&B process to finish... <strong style=\"color:green\">(success).</strong>"
            ],
            "text/plain": [
              "<IPython.core.display.HTML object>"
            ]
          },
          "metadata": {},
          "output_type": "display_data"
        },
        {
          "data": {
            "text/html": [
              "<style>\n",
              "    table.wandb td:nth-child(1) { padding: 0 10px; text-align: left ; width: auto;} td:nth-child(2) {text-align: left ; width: 100%}\n",
              "    .wandb-row { display: flex; flex-direction: row; flex-wrap: wrap; justify-content: flex-start; width: 100% }\n",
              "    .wandb-col { display: flex; flex-direction: column; flex-basis: 100%; flex: 1; padding: 10px; }\n",
              "    </style>\n",
              "<div class=\"wandb-row\"><div class=\"wandb-col\"><h3>Run history:</h3><br/><table class=\"wandb\"><tr><td>accuracy</td><td>▁▅▆▆▇▆▇▇▇▇▇██▇▇██▇██</td></tr><tr><td>epoch</td><td>▁▁▂▂▂▃▃▄▄▄▅▅▅▆▆▇▇▇██</td></tr><tr><td>loss</td><td>█▄▃▃▂▃▃▂▃▃▃▂▁▂▂▂▁▂▂▁</td></tr><tr><td>val_accuracy</td><td>▁▂▂▁▅▁▄▄▄▃▅▄▅▆▆▅▆▄▇█</td></tr><tr><td>val_loss</td><td>█▇█▇▅▆▆▄▄▅▅▅▄▁▂▁▃▆▃▁</td></tr></table><br/></div><div class=\"wandb-col\"><h3>Run summary:</h3><br/><table class=\"wandb\"><tr><td>Acc</td><td>0.9475</td></tr><tr><td>CO2_Emissions</td><td>0.00193</td></tr><tr><td>Count_Params</td><td>61706</td></tr><tr><td>Energy_CPU</td><td>0.00169</td></tr><tr><td>Energy_Consumed</td><td>0.00306</td></tr><tr><td>Energy_GPU</td><td>0.00118</td></tr><tr><td>Energy_RAM</td><td>0.00019</td></tr><tr><td>F1</td><td>0.94732</td></tr><tr><td>GFLOPs</td><td>0.00042</td></tr><tr><td>Precision</td><td>0.9477</td></tr><tr><td>Recall</td><td>0.9475</td></tr><tr><td>accuracy</td><td>0.86087</td></tr><tr><td>best_epoch</td><td>13</td></tr><tr><td>best_val_loss</td><td>0.19379</td></tr><tr><td>epoch</td><td>19</td></tr><tr><td>loss</td><td>0.47581</td></tr><tr><td>val_accuracy</td><td>0.9475</td></tr><tr><td>val_loss</td><td>0.197</td></tr></table><br/></div></div>"
            ],
            "text/plain": [
              "<IPython.core.display.HTML object>"
            ]
          },
          "metadata": {},
          "output_type": "display_data"
        },
        {
          "data": {
            "text/html": [
              "Synced <strong style=\"color:#cdcd00\">rosy-sweep-6</strong>: <a href=\"https://wandb.ai/mtxslv/lenet-5-assignment/runs/wlaayouw\" target=\"_blank\">https://wandb.ai/mtxslv/lenet-5-assignment/runs/wlaayouw</a><br/>Synced 5 W&B file(s), 1 media file(s), 0 artifact file(s) and 0 other file(s)"
            ],
            "text/plain": [
              "<IPython.core.display.HTML object>"
            ]
          },
          "metadata": {},
          "output_type": "display_data"
        },
        {
          "data": {
            "text/html": [
              "Find logs at: <code>./wandb/run-20221030_182052-wlaayouw/logs</code>"
            ],
            "text/plain": [
              "<IPython.core.display.HTML object>"
            ]
          },
          "metadata": {},
          "output_type": "display_data"
        },
        {
          "name": "stderr",
          "output_type": "stream",
          "text": [
            "\u001b[34m\u001b[1mwandb\u001b[0m: Agent Starting Run: ucwkzc4i with config:\n",
            "\u001b[34m\u001b[1mwandb\u001b[0m: \tactivation_function: relu\n",
            "\u001b[34m\u001b[1mwandb\u001b[0m: \tbatch_norm: True\n",
            "\u001b[34m\u001b[1mwandb\u001b[0m: \tdropout: 0\n",
            "Failed to detect the name of this notebook, you can set it manually with the WANDB_NOTEBOOK_NAME environment variable to enable code saving.\n",
            "\u001b[34m\u001b[1mwandb\u001b[0m: \u001b[33mWARNING\u001b[0m Ignored wandb.init() arg project when running a sweep.\n",
            "\u001b[34m\u001b[1mwandb\u001b[0m: \u001b[33mWARNING\u001b[0m Ignored wandb.init() arg entity when running a sweep.\n"
          ]
        },
        {
          "data": {
            "text/html": [
              "Tracking run with wandb version 0.13.4"
            ],
            "text/plain": [
              "<IPython.core.display.HTML object>"
            ]
          },
          "metadata": {},
          "output_type": "display_data"
        },
        {
          "data": {
            "text/html": [
              "Run data is saved locally in <code>/content/wandb/run-20221030_182336-ucwkzc4i</code>"
            ],
            "text/plain": [
              "<IPython.core.display.HTML object>"
            ]
          },
          "metadata": {},
          "output_type": "display_data"
        },
        {
          "data": {
            "text/html": [
              "Syncing run <strong><a href=\"https://wandb.ai/mtxslv/lenet-5-assignment/runs/ucwkzc4i\" target=\"_blank\">crimson-sweep-7</a></strong> to <a href=\"https://wandb.ai/mtxslv/lenet-5-assignment\" target=\"_blank\">Weights & Biases</a> (<a href=\"https://wandb.me/run\" target=\"_blank\">docs</a>)<br/>Sweep page:  <a href=\"https://wandb.ai/mtxslv/lenet-5-assignment/sweeps/1tomkau0\" target=\"_blank\">https://wandb.ai/mtxslv/lenet-5-assignment/sweeps/1tomkau0</a>"
            ],
            "text/plain": [
              "<IPython.core.display.HTML object>"
            ]
          },
          "metadata": {},
          "output_type": "display_data"
        },
        {
          "name": "stderr",
          "output_type": "stream",
          "text": [
            "30-10-2022 18:23:40 [INFO] compiling model...\n",
            "30-10-2022 18:23:41 [INFO] training network...\n"
          ]
        },
        {
          "name": "stdout",
          "output_type": "stream",
          "text": [
            "313/313 [==============================] - 1s 2ms/step\n"
          ]
        },
        {
          "name": "stderr",
          "output_type": "stream",
          "text": [
            "30-10-2022 18:26:05 Uploading figures\n",
            "30-10-2022 18:26:05 Validation Evaluation metrics\n",
            "30-10-2022 18:26:05 Validation Accuracy: 0.985\n",
            "30-10-2022 18:26:05 Validation Precision: 0.9852089862210083\n",
            "30-10-2022 18:26:05 Validation Recall: 0.985\n",
            "30-10-2022 18:26:05 Validation F1: 0.9850319608777621\n"
          ]
        },
        {
          "data": {
            "text/html": [
              "Waiting for W&B process to finish... <strong style=\"color:green\">(success).</strong>"
            ],
            "text/plain": [
              "<IPython.core.display.HTML object>"
            ]
          },
          "metadata": {},
          "output_type": "display_data"
        },
        {
          "data": {
            "text/html": [
              "<style>\n",
              "    table.wandb td:nth-child(1) { padding: 0 10px; text-align: left ; width: auto;} td:nth-child(2) {text-align: left ; width: 100%}\n",
              "    .wandb-row { display: flex; flex-direction: row; flex-wrap: wrap; justify-content: flex-start; width: 100% }\n",
              "    .wandb-col { display: flex; flex-direction: column; flex-basis: 100%; flex: 1; padding: 10px; }\n",
              "    </style>\n",
              "<div class=\"wandb-row\"><div class=\"wandb-col\"><h3>Run history:</h3><br/><table class=\"wandb\"><tr><td>accuracy</td><td>▁▅▆▆▇▇▇▇▇▇▇▇▇▇█▇▇███</td></tr><tr><td>epoch</td><td>▁▁▂▂▂▃▃▄▄▄▅▅▅▆▆▇▇▇██</td></tr><tr><td>loss</td><td>█▄▃▃▂▃▂▂▂▂▃▂▂▂▁▂▂▁▂▂</td></tr><tr><td>val_accuracy</td><td>▁▅▆▅▆▅▅▆▇▇▃▃█▆▆▆▆█▇▆</td></tr><tr><td>val_loss</td><td>▆▁▃▃▁▃▅▂▃▅▅▆▁▂▃▇█▄▅▂</td></tr></table><br/></div><div class=\"wandb-col\"><h3>Run summary:</h3><br/><table class=\"wandb\"><tr><td>Acc</td><td>0.985</td></tr><tr><td>CO2_Emissions</td><td>0.00193</td></tr><tr><td>Count_Params</td><td>61794</td></tr><tr><td>Energy_CPU</td><td>0.00169</td></tr><tr><td>Energy_Consumed</td><td>0.00306</td></tr><tr><td>Energy_GPU</td><td>0.00118</td></tr><tr><td>Energy_RAM</td><td>0.00019</td></tr><tr><td>F1</td><td>0.98503</td></tr><tr><td>GFLOPs</td><td>0.00042</td></tr><tr><td>Precision</td><td>0.98521</td></tr><tr><td>Recall</td><td>0.985</td></tr><tr><td>accuracy</td><td>0.99032</td></tr><tr><td>best_epoch</td><td>4</td></tr><tr><td>best_val_loss</td><td>0.05567</td></tr><tr><td>epoch</td><td>19</td></tr><tr><td>loss</td><td>0.05182</td></tr><tr><td>val_accuracy</td><td>0.985</td></tr><tr><td>val_loss</td><td>0.06152</td></tr></table><br/></div></div>"
            ],
            "text/plain": [
              "<IPython.core.display.HTML object>"
            ]
          },
          "metadata": {},
          "output_type": "display_data"
        },
        {
          "data": {
            "text/html": [
              "Synced <strong style=\"color:#cdcd00\">crimson-sweep-7</strong>: <a href=\"https://wandb.ai/mtxslv/lenet-5-assignment/runs/ucwkzc4i\" target=\"_blank\">https://wandb.ai/mtxslv/lenet-5-assignment/runs/ucwkzc4i</a><br/>Synced 5 W&B file(s), 1 media file(s), 0 artifact file(s) and 0 other file(s)"
            ],
            "text/plain": [
              "<IPython.core.display.HTML object>"
            ]
          },
          "metadata": {},
          "output_type": "display_data"
        },
        {
          "data": {
            "text/html": [
              "Find logs at: <code>./wandb/run-20221030_182336-ucwkzc4i/logs</code>"
            ],
            "text/plain": [
              "<IPython.core.display.HTML object>"
            ]
          },
          "metadata": {},
          "output_type": "display_data"
        },
        {
          "name": "stderr",
          "output_type": "stream",
          "text": [
            "\u001b[34m\u001b[1mwandb\u001b[0m: Agent Starting Run: nunm2p32 with config:\n",
            "\u001b[34m\u001b[1mwandb\u001b[0m: \tactivation_function: relu\n",
            "\u001b[34m\u001b[1mwandb\u001b[0m: \tbatch_norm: True\n",
            "\u001b[34m\u001b[1mwandb\u001b[0m: \tdropout: 0.1\n",
            "Failed to detect the name of this notebook, you can set it manually with the WANDB_NOTEBOOK_NAME environment variable to enable code saving.\n",
            "\u001b[34m\u001b[1mwandb\u001b[0m: \u001b[33mWARNING\u001b[0m Ignored wandb.init() arg project when running a sweep.\n",
            "\u001b[34m\u001b[1mwandb\u001b[0m: \u001b[33mWARNING\u001b[0m Ignored wandb.init() arg entity when running a sweep.\n"
          ]
        },
        {
          "data": {
            "text/html": [
              "Tracking run with wandb version 0.13.4"
            ],
            "text/plain": [
              "<IPython.core.display.HTML object>"
            ]
          },
          "metadata": {},
          "output_type": "display_data"
        },
        {
          "data": {
            "text/html": [
              "Run data is saved locally in <code>/content/wandb/run-20221030_182617-nunm2p32</code>"
            ],
            "text/plain": [
              "<IPython.core.display.HTML object>"
            ]
          },
          "metadata": {},
          "output_type": "display_data"
        },
        {
          "data": {
            "text/html": [
              "Syncing run <strong><a href=\"https://wandb.ai/mtxslv/lenet-5-assignment/runs/nunm2p32\" target=\"_blank\">twilight-sweep-8</a></strong> to <a href=\"https://wandb.ai/mtxslv/lenet-5-assignment\" target=\"_blank\">Weights & Biases</a> (<a href=\"https://wandb.me/run\" target=\"_blank\">docs</a>)<br/>Sweep page:  <a href=\"https://wandb.ai/mtxslv/lenet-5-assignment/sweeps/1tomkau0\" target=\"_blank\">https://wandb.ai/mtxslv/lenet-5-assignment/sweeps/1tomkau0</a>"
            ],
            "text/plain": [
              "<IPython.core.display.HTML object>"
            ]
          },
          "metadata": {},
          "output_type": "display_data"
        },
        {
          "name": "stderr",
          "output_type": "stream",
          "text": [
            "30-10-2022 18:26:21 [INFO] compiling model...\n",
            "30-10-2022 18:26:21 [INFO] training network...\n"
          ]
        },
        {
          "name": "stdout",
          "output_type": "stream",
          "text": [
            "313/313 [==============================] - 1s 2ms/step\n"
          ]
        },
        {
          "name": "stderr",
          "output_type": "stream",
          "text": [
            "30-10-2022 18:28:45 Uploading figures\n",
            "30-10-2022 18:28:45 Validation Evaluation metrics\n",
            "30-10-2022 18:28:45 Validation Accuracy: 0.9867\n",
            "30-10-2022 18:28:45 Validation Precision: 0.9867716802675084\n",
            "30-10-2022 18:28:45 Validation Recall: 0.9867\n",
            "30-10-2022 18:28:45 Validation F1: 0.986707905393866\n"
          ]
        },
        {
          "data": {
            "text/html": [
              "Waiting for W&B process to finish... <strong style=\"color:green\">(success).</strong>"
            ],
            "text/plain": [
              "<IPython.core.display.HTML object>"
            ]
          },
          "metadata": {},
          "output_type": "display_data"
        },
        {
          "data": {
            "text/html": [
              "<style>\n",
              "    table.wandb td:nth-child(1) { padding: 0 10px; text-align: left ; width: auto;} td:nth-child(2) {text-align: left ; width: 100%}\n",
              "    .wandb-row { display: flex; flex-direction: row; flex-wrap: wrap; justify-content: flex-start; width: 100% }\n",
              "    .wandb-col { display: flex; flex-direction: column; flex-basis: 100%; flex: 1; padding: 10px; }\n",
              "    </style>\n",
              "<div class=\"wandb-row\"><div class=\"wandb-col\"><h3>Run history:</h3><br/><table class=\"wandb\"><tr><td>accuracy</td><td>▁▅▆▆▆▇▇▇▇▇▇▇▇▇▇█████</td></tr><tr><td>epoch</td><td>▁▁▂▂▂▃▃▄▄▄▅▅▅▆▆▇▇▇██</td></tr><tr><td>loss</td><td>█▄▃▃▃▂▂▂▂▃▂▂▃▂▂▂▂▁▁▁</td></tr><tr><td>val_accuracy</td><td>▅▁▅▇▇▁▆▃▂▇▃▇▇▆▆█▇▅▆▇</td></tr><tr><td>val_loss</td><td>▂▄▁▁▂▄▂▅▇▂█▁▃█▄▂▂▅▅▆</td></tr></table><br/></div><div class=\"wandb-col\"><h3>Run summary:</h3><br/><table class=\"wandb\"><tr><td>Acc</td><td>0.9867</td></tr><tr><td>CO2_Emissions</td><td>0.00194</td></tr><tr><td>Count_Params</td><td>61794</td></tr><tr><td>Energy_CPU</td><td>0.00169</td></tr><tr><td>Energy_Consumed</td><td>0.00308</td></tr><tr><td>Energy_GPU</td><td>0.0012</td></tr><tr><td>Energy_RAM</td><td>0.00019</td></tr><tr><td>F1</td><td>0.98671</td></tr><tr><td>GFLOPs</td><td>0.00042</td></tr><tr><td>Precision</td><td>0.98677</td></tr><tr><td>Recall</td><td>0.9867</td></tr><tr><td>accuracy</td><td>0.984</td></tr><tr><td>best_epoch</td><td>3</td></tr><tr><td>best_val_loss</td><td>0.05462</td></tr><tr><td>epoch</td><td>19</td></tr><tr><td>loss</td><td>0.08138</td></tr><tr><td>val_accuracy</td><td>0.9867</td></tr><tr><td>val_loss</td><td>0.09582</td></tr></table><br/></div></div>"
            ],
            "text/plain": [
              "<IPython.core.display.HTML object>"
            ]
          },
          "metadata": {},
          "output_type": "display_data"
        },
        {
          "data": {
            "text/html": [
              "Synced <strong style=\"color:#cdcd00\">twilight-sweep-8</strong>: <a href=\"https://wandb.ai/mtxslv/lenet-5-assignment/runs/nunm2p32\" target=\"_blank\">https://wandb.ai/mtxslv/lenet-5-assignment/runs/nunm2p32</a><br/>Synced 5 W&B file(s), 1 media file(s), 0 artifact file(s) and 0 other file(s)"
            ],
            "text/plain": [
              "<IPython.core.display.HTML object>"
            ]
          },
          "metadata": {},
          "output_type": "display_data"
        },
        {
          "data": {
            "text/html": [
              "Find logs at: <code>./wandb/run-20221030_182617-nunm2p32/logs</code>"
            ],
            "text/plain": [
              "<IPython.core.display.HTML object>"
            ]
          },
          "metadata": {},
          "output_type": "display_data"
        },
        {
          "name": "stderr",
          "output_type": "stream",
          "text": [
            "\u001b[34m\u001b[1mwandb\u001b[0m: Agent Starting Run: jplj8de6 with config:\n",
            "\u001b[34m\u001b[1mwandb\u001b[0m: \tactivation_function: relu\n",
            "\u001b[34m\u001b[1mwandb\u001b[0m: \tbatch_norm: True\n",
            "\u001b[34m\u001b[1mwandb\u001b[0m: \tdropout: 0.5\n",
            "Failed to detect the name of this notebook, you can set it manually with the WANDB_NOTEBOOK_NAME environment variable to enable code saving.\n",
            "\u001b[34m\u001b[1mwandb\u001b[0m: \u001b[33mWARNING\u001b[0m Ignored wandb.init() arg project when running a sweep.\n",
            "\u001b[34m\u001b[1mwandb\u001b[0m: \u001b[33mWARNING\u001b[0m Ignored wandb.init() arg entity when running a sweep.\n"
          ]
        },
        {
          "data": {
            "text/html": [
              "Tracking run with wandb version 0.13.4"
            ],
            "text/plain": [
              "<IPython.core.display.HTML object>"
            ]
          },
          "metadata": {},
          "output_type": "display_data"
        },
        {
          "data": {
            "text/html": [
              "Run data is saved locally in <code>/content/wandb/run-20221030_182901-jplj8de6</code>"
            ],
            "text/plain": [
              "<IPython.core.display.HTML object>"
            ]
          },
          "metadata": {},
          "output_type": "display_data"
        },
        {
          "data": {
            "text/html": [
              "Syncing run <strong><a href=\"https://wandb.ai/mtxslv/lenet-5-assignment/runs/jplj8de6\" target=\"_blank\">radiant-sweep-9</a></strong> to <a href=\"https://wandb.ai/mtxslv/lenet-5-assignment\" target=\"_blank\">Weights & Biases</a> (<a href=\"https://wandb.me/run\" target=\"_blank\">docs</a>)<br/>Sweep page:  <a href=\"https://wandb.ai/mtxslv/lenet-5-assignment/sweeps/1tomkau0\" target=\"_blank\">https://wandb.ai/mtxslv/lenet-5-assignment/sweeps/1tomkau0</a>"
            ],
            "text/plain": [
              "<IPython.core.display.HTML object>"
            ]
          },
          "metadata": {},
          "output_type": "display_data"
        },
        {
          "name": "stderr",
          "output_type": "stream",
          "text": [
            "30-10-2022 18:29:06 [INFO] compiling model...\n",
            "30-10-2022 18:29:06 [INFO] training network...\n"
          ]
        },
        {
          "name": "stdout",
          "output_type": "stream",
          "text": [
            "313/313 [==============================] - 1s 2ms/step\n"
          ]
        },
        {
          "name": "stderr",
          "output_type": "stream",
          "text": [
            "30-10-2022 18:31:13 Uploading figures\n",
            "30-10-2022 18:31:13 Validation Evaluation metrics\n",
            "30-10-2022 18:31:13 Validation Accuracy: 0.9817\n",
            "30-10-2022 18:31:13 Validation Precision: 0.9819360774046596\n",
            "30-10-2022 18:31:13 Validation Recall: 0.9817\n",
            "30-10-2022 18:31:13 Validation F1: 0.9817157260354284\n"
          ]
        },
        {
          "data": {
            "text/html": [
              "Waiting for W&B process to finish... <strong style=\"color:green\">(success).</strong>"
            ],
            "text/plain": [
              "<IPython.core.display.HTML object>"
            ]
          },
          "metadata": {},
          "output_type": "display_data"
        },
        {
          "data": {
            "text/html": [
              "<style>\n",
              "    table.wandb td:nth-child(1) { padding: 0 10px; text-align: left ; width: auto;} td:nth-child(2) {text-align: left ; width: 100%}\n",
              "    .wandb-row { display: flex; flex-direction: row; flex-wrap: wrap; justify-content: flex-start; width: 100% }\n",
              "    .wandb-col { display: flex; flex-direction: column; flex-basis: 100%; flex: 1; padding: 10px; }\n",
              "    </style>\n",
              "<div class=\"wandb-row\"><div class=\"wandb-col\"><h3>Run history:</h3><br/><table class=\"wandb\"><tr><td>accuracy</td><td>▁▆▇▇▇█▇▇█▇█▇█▇██████</td></tr><tr><td>epoch</td><td>▁▁▂▂▂▃▃▄▄▄▅▅▅▆▆▇▇▇██</td></tr><tr><td>loss</td><td>█▂▂▂▂▁▂▂▁▂▂▂▁▂▁▂▁▂▁▂</td></tr><tr><td>val_accuracy</td><td>▃▆▆▆▇▇▆▇█▅▁▆▇▆▇█▇▆█▇</td></tr><tr><td>val_loss</td><td>▇▃▄▄▃▃▃▂▁▆█▃▄▄▃▃▂▄▃▃</td></tr></table><br/></div><div class=\"wandb-col\"><h3>Run summary:</h3><br/><table class=\"wandb\"><tr><td>Acc</td><td>0.9817</td></tr><tr><td>CO2_Emissions</td><td>0.0017</td></tr><tr><td>Count_Params</td><td>61794</td></tr><tr><td>Energy_CPU</td><td>0.00148</td></tr><tr><td>Energy_Consumed</td><td>0.00269</td></tr><tr><td>Energy_GPU</td><td>0.00105</td></tr><tr><td>Energy_RAM</td><td>0.00017</td></tr><tr><td>F1</td><td>0.98172</td></tr><tr><td>GFLOPs</td><td>0.00042</td></tr><tr><td>Precision</td><td>0.98194</td></tr><tr><td>Recall</td><td>0.9817</td></tr><tr><td>accuracy</td><td>0.94055</td></tr><tr><td>best_epoch</td><td>8</td></tr><tr><td>best_val_loss</td><td>0.06454</td></tr><tr><td>epoch</td><td>19</td></tr><tr><td>loss</td><td>0.2837</td></tr><tr><td>val_accuracy</td><td>0.9817</td></tr><tr><td>val_loss</td><td>0.07976</td></tr></table><br/></div></div>"
            ],
            "text/plain": [
              "<IPython.core.display.HTML object>"
            ]
          },
          "metadata": {},
          "output_type": "display_data"
        },
        {
          "data": {
            "text/html": [
              "Synced <strong style=\"color:#cdcd00\">radiant-sweep-9</strong>: <a href=\"https://wandb.ai/mtxslv/lenet-5-assignment/runs/jplj8de6\" target=\"_blank\">https://wandb.ai/mtxslv/lenet-5-assignment/runs/jplj8de6</a><br/>Synced 5 W&B file(s), 1 media file(s), 0 artifact file(s) and 0 other file(s)"
            ],
            "text/plain": [
              "<IPython.core.display.HTML object>"
            ]
          },
          "metadata": {},
          "output_type": "display_data"
        },
        {
          "data": {
            "text/html": [
              "Find logs at: <code>./wandb/run-20221030_182901-jplj8de6/logs</code>"
            ],
            "text/plain": [
              "<IPython.core.display.HTML object>"
            ]
          },
          "metadata": {},
          "output_type": "display_data"
        },
        {
          "name": "stderr",
          "output_type": "stream",
          "text": [
            "\u001b[34m\u001b[1mwandb\u001b[0m: Agent Starting Run: dum9es5o with config:\n",
            "\u001b[34m\u001b[1mwandb\u001b[0m: \tactivation_function: relu\n",
            "\u001b[34m\u001b[1mwandb\u001b[0m: \tbatch_norm: False\n",
            "\u001b[34m\u001b[1mwandb\u001b[0m: \tdropout: 0\n",
            "Failed to detect the name of this notebook, you can set it manually with the WANDB_NOTEBOOK_NAME environment variable to enable code saving.\n",
            "\u001b[34m\u001b[1mwandb\u001b[0m: \u001b[33mWARNING\u001b[0m Ignored wandb.init() arg project when running a sweep.\n",
            "\u001b[34m\u001b[1mwandb\u001b[0m: \u001b[33mWARNING\u001b[0m Ignored wandb.init() arg entity when running a sweep.\n"
          ]
        },
        {
          "data": {
            "text/html": [
              "Tracking run with wandb version 0.13.4"
            ],
            "text/plain": [
              "<IPython.core.display.HTML object>"
            ]
          },
          "metadata": {},
          "output_type": "display_data"
        },
        {
          "data": {
            "text/html": [
              "Run data is saved locally in <code>/content/wandb/run-20221030_183128-dum9es5o</code>"
            ],
            "text/plain": [
              "<IPython.core.display.HTML object>"
            ]
          },
          "metadata": {},
          "output_type": "display_data"
        },
        {
          "data": {
            "text/html": [
              "Syncing run <strong><a href=\"https://wandb.ai/mtxslv/lenet-5-assignment/runs/dum9es5o\" target=\"_blank\">still-sweep-10</a></strong> to <a href=\"https://wandb.ai/mtxslv/lenet-5-assignment\" target=\"_blank\">Weights & Biases</a> (<a href=\"https://wandb.me/run\" target=\"_blank\">docs</a>)<br/>Sweep page:  <a href=\"https://wandb.ai/mtxslv/lenet-5-assignment/sweeps/1tomkau0\" target=\"_blank\">https://wandb.ai/mtxslv/lenet-5-assignment/sweeps/1tomkau0</a>"
            ],
            "text/plain": [
              "<IPython.core.display.HTML object>"
            ]
          },
          "metadata": {},
          "output_type": "display_data"
        },
        {
          "name": "stderr",
          "output_type": "stream",
          "text": [
            "30-10-2022 18:31:33 [INFO] compiling model...\n",
            "30-10-2022 18:31:33 [INFO] training network...\n"
          ]
        },
        {
          "name": "stdout",
          "output_type": "stream",
          "text": [
            "313/313 [==============================] - 1s 2ms/step\n"
          ]
        },
        {
          "name": "stderr",
          "output_type": "stream",
          "text": [
            "30-10-2022 18:33:27 Uploading figures\n",
            "30-10-2022 18:33:27 Validation Evaluation metrics\n",
            "30-10-2022 18:33:27 Validation Accuracy: 0.9813\n",
            "30-10-2022 18:33:27 Validation Precision: 0.9816045130220977\n",
            "30-10-2022 18:33:27 Validation Recall: 0.9813\n",
            "30-10-2022 18:33:27 Validation F1: 0.9813225369980352\n"
          ]
        },
        {
          "data": {
            "text/html": [
              "Waiting for W&B process to finish... <strong style=\"color:green\">(success).</strong>"
            ],
            "text/plain": [
              "<IPython.core.display.HTML object>"
            ]
          },
          "metadata": {},
          "output_type": "display_data"
        },
        {
          "data": {
            "text/html": [
              "<style>\n",
              "    table.wandb td:nth-child(1) { padding: 0 10px; text-align: left ; width: auto;} td:nth-child(2) {text-align: left ; width: 100%}\n",
              "    .wandb-row { display: flex; flex-direction: row; flex-wrap: wrap; justify-content: flex-start; width: 100% }\n",
              "    .wandb-col { display: flex; flex-direction: column; flex-basis: 100%; flex: 1; padding: 10px; }\n",
              "    </style>\n",
              "<div class=\"wandb-row\"><div class=\"wandb-col\"><h3>Run history:</h3><br/><table class=\"wandb\"><tr><td>accuracy</td><td>▁▅▆▆▆▇▇▇▇▇▇▇██▇██▇██</td></tr><tr><td>epoch</td><td>▁▁▂▂▂▃▃▄▄▄▅▅▅▆▆▇▇▇██</td></tr><tr><td>loss</td><td>█▄▃▃▃▂▂▂▂▂▂▂▁▂▂▂▁▂▁▁</td></tr><tr><td>val_accuracy</td><td>▁▅▁▇▃█▇▇▆▅▄▄▅▄▇▆▇█▆▅</td></tr><tr><td>val_loss</td><td>▄▃▄▁▅▂▂▂▃▄█▆▅▄▄▄▄▃▅▆</td></tr></table><br/></div><div class=\"wandb-col\"><h3>Run summary:</h3><br/><table class=\"wandb\"><tr><td>Acc</td><td>0.9813</td></tr><tr><td>CO2_Emissions</td><td>0.00153</td></tr><tr><td>Count_Params</td><td>61706</td></tr><tr><td>Energy_CPU</td><td>0.00133</td></tr><tr><td>Energy_Consumed</td><td>0.00243</td></tr><tr><td>Energy_GPU</td><td>0.00095</td></tr><tr><td>Energy_RAM</td><td>0.00015</td></tr><tr><td>F1</td><td>0.98132</td></tr><tr><td>GFLOPs</td><td>0.00042</td></tr><tr><td>Precision</td><td>0.9816</td></tr><tr><td>Recall</td><td>0.9813</td></tr><tr><td>accuracy</td><td>0.99165</td></tr><tr><td>best_epoch</td><td>3</td></tr><tr><td>best_val_loss</td><td>0.0569</td></tr><tr><td>epoch</td><td>19</td></tr><tr><td>loss</td><td>0.04594</td></tr><tr><td>val_accuracy</td><td>0.9813</td></tr><tr><td>val_loss</td><td>0.10951</td></tr></table><br/></div></div>"
            ],
            "text/plain": [
              "<IPython.core.display.HTML object>"
            ]
          },
          "metadata": {},
          "output_type": "display_data"
        },
        {
          "data": {
            "text/html": [
              "Synced <strong style=\"color:#cdcd00\">still-sweep-10</strong>: <a href=\"https://wandb.ai/mtxslv/lenet-5-assignment/runs/dum9es5o\" target=\"_blank\">https://wandb.ai/mtxslv/lenet-5-assignment/runs/dum9es5o</a><br/>Synced 5 W&B file(s), 1 media file(s), 0 artifact file(s) and 0 other file(s)"
            ],
            "text/plain": [
              "<IPython.core.display.HTML object>"
            ]
          },
          "metadata": {},
          "output_type": "display_data"
        },
        {
          "data": {
            "text/html": [
              "Find logs at: <code>./wandb/run-20221030_183128-dum9es5o/logs</code>"
            ],
            "text/plain": [
              "<IPython.core.display.HTML object>"
            ]
          },
          "metadata": {},
          "output_type": "display_data"
        },
        {
          "name": "stderr",
          "output_type": "stream",
          "text": [
            "\u001b[34m\u001b[1mwandb\u001b[0m: Agent Starting Run: 5xzqe0ve with config:\n",
            "\u001b[34m\u001b[1mwandb\u001b[0m: \tactivation_function: relu\n",
            "\u001b[34m\u001b[1mwandb\u001b[0m: \tbatch_norm: False\n",
            "\u001b[34m\u001b[1mwandb\u001b[0m: \tdropout: 0.1\n",
            "Failed to detect the name of this notebook, you can set it manually with the WANDB_NOTEBOOK_NAME environment variable to enable code saving.\n",
            "\u001b[34m\u001b[1mwandb\u001b[0m: \u001b[33mWARNING\u001b[0m Ignored wandb.init() arg project when running a sweep.\n",
            "\u001b[34m\u001b[1mwandb\u001b[0m: \u001b[33mWARNING\u001b[0m Ignored wandb.init() arg entity when running a sweep.\n"
          ]
        },
        {
          "data": {
            "text/html": [
              "Tracking run with wandb version 0.13.4"
            ],
            "text/plain": [
              "<IPython.core.display.HTML object>"
            ]
          },
          "metadata": {},
          "output_type": "display_data"
        },
        {
          "data": {
            "text/html": [
              "Run data is saved locally in <code>/content/wandb/run-20221030_183339-5xzqe0ve</code>"
            ],
            "text/plain": [
              "<IPython.core.display.HTML object>"
            ]
          },
          "metadata": {},
          "output_type": "display_data"
        },
        {
          "data": {
            "text/html": [
              "Syncing run <strong><a href=\"https://wandb.ai/mtxslv/lenet-5-assignment/runs/5xzqe0ve\" target=\"_blank\">splendid-sweep-11</a></strong> to <a href=\"https://wandb.ai/mtxslv/lenet-5-assignment\" target=\"_blank\">Weights & Biases</a> (<a href=\"https://wandb.me/run\" target=\"_blank\">docs</a>)<br/>Sweep page:  <a href=\"https://wandb.ai/mtxslv/lenet-5-assignment/sweeps/1tomkau0\" target=\"_blank\">https://wandb.ai/mtxslv/lenet-5-assignment/sweeps/1tomkau0</a>"
            ],
            "text/plain": [
              "<IPython.core.display.HTML object>"
            ]
          },
          "metadata": {},
          "output_type": "display_data"
        },
        {
          "name": "stderr",
          "output_type": "stream",
          "text": [
            "30-10-2022 18:33:45 [INFO] compiling model...\n",
            "30-10-2022 18:33:45 [INFO] training network...\n"
          ]
        },
        {
          "name": "stdout",
          "output_type": "stream",
          "text": [
            "313/313 [==============================] - 1s 2ms/step\n"
          ]
        },
        {
          "name": "stderr",
          "output_type": "stream",
          "text": [
            "30-10-2022 18:36:08 Uploading figures\n",
            "30-10-2022 18:36:08 Validation Evaluation metrics\n",
            "30-10-2022 18:36:08 Validation Accuracy: 0.9847\n",
            "30-10-2022 18:36:08 Validation Precision: 0.984747650393069\n",
            "30-10-2022 18:36:08 Validation Recall: 0.9847\n",
            "30-10-2022 18:36:08 Validation F1: 0.9846983354373753\n"
          ]
        },
        {
          "data": {
            "text/html": [
              "Waiting for W&B process to finish... <strong style=\"color:green\">(success).</strong>"
            ],
            "text/plain": [
              "<IPython.core.display.HTML object>"
            ]
          },
          "metadata": {},
          "output_type": "display_data"
        },
        {
          "data": {
            "text/html": [
              "<style>\n",
              "    table.wandb td:nth-child(1) { padding: 0 10px; text-align: left ; width: auto;} td:nth-child(2) {text-align: left ; width: 100%}\n",
              "    .wandb-row { display: flex; flex-direction: row; flex-wrap: wrap; justify-content: flex-start; width: 100% }\n",
              "    .wandb-col { display: flex; flex-direction: column; flex-basis: 100%; flex: 1; padding: 10px; }\n",
              "    </style>\n",
              "<div class=\"wandb-row\"><div class=\"wandb-col\"><h3>Run history:</h3><br/><table class=\"wandb\"><tr><td>accuracy</td><td>▁▆▆▇▇▇▇▇████▇█▇█████</td></tr><tr><td>epoch</td><td>▁▁▂▂▂▃▃▄▄▄▅▅▅▆▆▇▇▇██</td></tr><tr><td>loss</td><td>█▃▂▂▂▂▂▂▁▁▂▁▂▁▂▁▁▁▂▂</td></tr><tr><td>val_accuracy</td><td>▁▅▇▅▇▇▇█▇██▇▇▇█▇▇▅██</td></tr><tr><td>val_loss</td><td>█▃▁▄▂▂▃▁▁▁▁▂▃▃▂▂▃▆▁▁</td></tr></table><br/></div><div class=\"wandb-col\"><h3>Run summary:</h3><br/><table class=\"wandb\"><tr><td>Acc</td><td>0.9847</td></tr><tr><td>CO2_Emissions</td><td>0.00193</td></tr><tr><td>Count_Params</td><td>61706</td></tr><tr><td>Energy_CPU</td><td>0.00168</td></tr><tr><td>Energy_Consumed</td><td>0.00306</td></tr><tr><td>Energy_GPU</td><td>0.00119</td></tr><tr><td>Energy_RAM</td><td>0.00019</td></tr><tr><td>F1</td><td>0.9847</td></tr><tr><td>GFLOPs</td><td>0.00042</td></tr><tr><td>Precision</td><td>0.98475</td></tr><tr><td>Recall</td><td>0.9847</td></tr><tr><td>accuracy</td><td>0.97842</td></tr><tr><td>best_epoch</td><td>9</td></tr><tr><td>best_val_loss</td><td>0.05826</td></tr><tr><td>epoch</td><td>19</td></tr><tr><td>loss</td><td>0.10238</td></tr><tr><td>val_accuracy</td><td>0.9847</td></tr><tr><td>val_loss</td><td>0.06241</td></tr></table><br/></div></div>"
            ],
            "text/plain": [
              "<IPython.core.display.HTML object>"
            ]
          },
          "metadata": {},
          "output_type": "display_data"
        },
        {
          "data": {
            "text/html": [
              "Synced <strong style=\"color:#cdcd00\">splendid-sweep-11</strong>: <a href=\"https://wandb.ai/mtxslv/lenet-5-assignment/runs/5xzqe0ve\" target=\"_blank\">https://wandb.ai/mtxslv/lenet-5-assignment/runs/5xzqe0ve</a><br/>Synced 5 W&B file(s), 1 media file(s), 0 artifact file(s) and 0 other file(s)"
            ],
            "text/plain": [
              "<IPython.core.display.HTML object>"
            ]
          },
          "metadata": {},
          "output_type": "display_data"
        },
        {
          "data": {
            "text/html": [
              "Find logs at: <code>./wandb/run-20221030_183339-5xzqe0ve/logs</code>"
            ],
            "text/plain": [
              "<IPython.core.display.HTML object>"
            ]
          },
          "metadata": {},
          "output_type": "display_data"
        },
        {
          "name": "stderr",
          "output_type": "stream",
          "text": [
            "\u001b[34m\u001b[1mwandb\u001b[0m: Agent Starting Run: ggp88iin with config:\n",
            "\u001b[34m\u001b[1mwandb\u001b[0m: \tactivation_function: relu\n",
            "\u001b[34m\u001b[1mwandb\u001b[0m: \tbatch_norm: False\n",
            "\u001b[34m\u001b[1mwandb\u001b[0m: \tdropout: 0.5\n",
            "Failed to detect the name of this notebook, you can set it manually with the WANDB_NOTEBOOK_NAME environment variable to enable code saving.\n",
            "\u001b[34m\u001b[1mwandb\u001b[0m: \u001b[33mWARNING\u001b[0m Ignored wandb.init() arg project when running a sweep.\n",
            "\u001b[34m\u001b[1mwandb\u001b[0m: \u001b[33mWARNING\u001b[0m Ignored wandb.init() arg entity when running a sweep.\n"
          ]
        },
        {
          "data": {
            "text/html": [
              "Tracking run with wandb version 0.13.4"
            ],
            "text/plain": [
              "<IPython.core.display.HTML object>"
            ]
          },
          "metadata": {},
          "output_type": "display_data"
        },
        {
          "data": {
            "text/html": [
              "Run data is saved locally in <code>/content/wandb/run-20221030_183622-ggp88iin</code>"
            ],
            "text/plain": [
              "<IPython.core.display.HTML object>"
            ]
          },
          "metadata": {},
          "output_type": "display_data"
        },
        {
          "data": {
            "text/html": [
              "Syncing run <strong><a href=\"https://wandb.ai/mtxslv/lenet-5-assignment/runs/ggp88iin\" target=\"_blank\">happy-sweep-12</a></strong> to <a href=\"https://wandb.ai/mtxslv/lenet-5-assignment\" target=\"_blank\">Weights & Biases</a> (<a href=\"https://wandb.me/run\" target=\"_blank\">docs</a>)<br/>Sweep page:  <a href=\"https://wandb.ai/mtxslv/lenet-5-assignment/sweeps/1tomkau0\" target=\"_blank\">https://wandb.ai/mtxslv/lenet-5-assignment/sweeps/1tomkau0</a>"
            ],
            "text/plain": [
              "<IPython.core.display.HTML object>"
            ]
          },
          "metadata": {},
          "output_type": "display_data"
        },
        {
          "name": "stderr",
          "output_type": "stream",
          "text": [
            "30-10-2022 18:36:28 [INFO] compiling model...\n",
            "30-10-2022 18:36:28 [INFO] training network...\n"
          ]
        },
        {
          "name": "stdout",
          "output_type": "stream",
          "text": [
            "313/313 [==============================] - 1s 2ms/step\n"
          ]
        },
        {
          "name": "stderr",
          "output_type": "stream",
          "text": [
            "30-10-2022 18:38:51 Uploading figures\n",
            "30-10-2022 18:38:51 Validation Evaluation metrics\n",
            "30-10-2022 18:38:51 Validation Accuracy: 0.9705\n",
            "30-10-2022 18:38:52 Validation Precision: 0.9707669026901135\n",
            "30-10-2022 18:38:52 Validation Recall: 0.9705\n",
            "30-10-2022 18:38:52 Validation F1: 0.9704984149150016\n"
          ]
        },
        {
          "data": {
            "text/html": [
              "Waiting for W&B process to finish... <strong style=\"color:green\">(success).</strong>"
            ],
            "text/plain": [
              "<IPython.core.display.HTML object>"
            ]
          },
          "metadata": {},
          "output_type": "display_data"
        },
        {
          "data": {
            "text/html": [
              "<style>\n",
              "    table.wandb td:nth-child(1) { padding: 0 10px; text-align: left ; width: auto;} td:nth-child(2) {text-align: left ; width: 100%}\n",
              "    .wandb-row { display: flex; flex-direction: row; flex-wrap: wrap; justify-content: flex-start; width: 100% }\n",
              "    .wandb-col { display: flex; flex-direction: column; flex-basis: 100%; flex: 1; padding: 10px; }\n",
              "    </style>\n",
              "<div class=\"wandb-row\"><div class=\"wandb-col\"><h3>Run history:</h3><br/><table class=\"wandb\"><tr><td>accuracy</td><td>▁▇▇██████▇█▇█▇▇▇▇███</td></tr><tr><td>epoch</td><td>▁▁▂▂▂▃▃▄▄▄▅▅▅▆▆▇▇▇██</td></tr><tr><td>loss</td><td>█▁▁▁▁▁▂▂▁▂▁▂▁▂▂▂▂▂▂▂</td></tr><tr><td>val_accuracy</td><td>▃▄▃▇▇▄██▅▅▄█▁▁█▆█▄▅▇</td></tr><tr><td>val_loss</td><td>▄▃▄▂▂▃▁▂▃▂▆▂▇█▂▄▅█▃▃</td></tr></table><br/></div><div class=\"wandb-col\"><h3>Run summary:</h3><br/><table class=\"wandb\"><tr><td>Acc</td><td>0.9705</td></tr><tr><td>CO2_Emissions</td><td>0.00193</td></tr><tr><td>Count_Params</td><td>61706</td></tr><tr><td>Energy_CPU</td><td>0.00168</td></tr><tr><td>Energy_Consumed</td><td>0.00306</td></tr><tr><td>Energy_GPU</td><td>0.00119</td></tr><tr><td>Energy_RAM</td><td>0.00019</td></tr><tr><td>F1</td><td>0.9705</td></tr><tr><td>GFLOPs</td><td>0.00042</td></tr><tr><td>Precision</td><td>0.97077</td></tr><tr><td>Recall</td><td>0.9705</td></tr><tr><td>accuracy</td><td>0.9031</td></tr><tr><td>best_epoch</td><td>6</td></tr><tr><td>best_val_loss</td><td>0.10508</td></tr><tr><td>epoch</td><td>19</td></tr><tr><td>loss</td><td>0.40413</td></tr><tr><td>val_accuracy</td><td>0.9705</td></tr><tr><td>val_loss</td><td>0.12427</td></tr></table><br/></div></div>"
            ],
            "text/plain": [
              "<IPython.core.display.HTML object>"
            ]
          },
          "metadata": {},
          "output_type": "display_data"
        },
        {
          "data": {
            "text/html": [
              "Synced <strong style=\"color:#cdcd00\">happy-sweep-12</strong>: <a href=\"https://wandb.ai/mtxslv/lenet-5-assignment/runs/ggp88iin\" target=\"_blank\">https://wandb.ai/mtxslv/lenet-5-assignment/runs/ggp88iin</a><br/>Synced 5 W&B file(s), 1 media file(s), 0 artifact file(s) and 0 other file(s)"
            ],
            "text/plain": [
              "<IPython.core.display.HTML object>"
            ]
          },
          "metadata": {},
          "output_type": "display_data"
        },
        {
          "data": {
            "text/html": [
              "Find logs at: <code>./wandb/run-20221030_183622-ggp88iin/logs</code>"
            ],
            "text/plain": [
              "<IPython.core.display.HTML object>"
            ]
          },
          "metadata": {},
          "output_type": "display_data"
        },
        {
          "data": {
            "image/png": "[encoded data removed]",
            "text/plain": [
              "<Figure size 504x288 with 2 Axes>"
            ]
          },
          "metadata": {
            "needs_background": "light"
          },
          "output_type": "display_data"
        },
        {
          "data": {
            "image/png": "[encoded data removed]",
            "text/plain": [
              "<Figure size 504x288 with 2 Axes>"
            ]
          },
          "metadata": {
            "needs_background": "light"
          },
          "output_type": "display_data"
        },
        {
          "data": {
            "image/png": "[encoded data removed]",
            "text/plain": [
              "<Figure size 504x288 with 2 Axes>"
            ]
          },
          "metadata": {
            "needs_background": "light"
          },
          "output_type": "display_data"
        },
        {
          "data": {
            "image/png": "[encoded data removed]",
            "text/plain": [
              "<Figure size 504x288 with 2 Axes>"
            ]
          },
          "metadata": {
            "needs_background": "light"
          },
          "output_type": "display_data"
        },
        {
          "data": {
            "image/png": "[encoded data removed]",
            "text/plain": [
              "<Figure size 504x288 with 2 Axes>"
            ]
          },
          "metadata": {
            "needs_background": "light"
          },
          "output_type": "display_data"
        },
        {
          "data": {
            "image/png": "[encoded data removed]",
            "text/plain": [
              "<Figure size 504x288 with 2 Axes>"
            ]
          },
          "metadata": {
            "needs_background": "light"
          },
          "output_type": "display_data"
        },
        {
          "data": {
            "image/png": "[encoded data removed]",
            "text/plain": [
              "<Figure size 504x288 with 2 Axes>"
            ]
          },
          "metadata": {
            "needs_background": "light"
          },
          "output_type": "display_data"
        },
        {
          "data": {
            "image/png": "[encoded data removed]",
            "text/plain": [
              "<Figure size 504x288 with 2 Axes>"
            ]
          },
          "metadata": {
            "needs_background": "light"
          },
          "output_type": "display_data"
        },
        {
          "data": {
            "image/png": "[encoded data removed]",
            "text/plain": [
              "<Figure size 504x288 with 2 Axes>"
            ]
          },
          "metadata": {
            "needs_background": "light"
          },
          "output_type": "display_data"
        },
        {
          "data": {
            "image/png": "[encoded data removed]",
            "text/plain": [
              "<Figure size 504x288 with 2 Axes>"
            ]
          },
          "metadata": {
            "needs_background": "light"
          },
          "output_type": "display_data"
        },
        {
          "data": {
            "image/png": "[encoded data removed]",
            "text/plain": [
              "<Figure size 504x288 with 2 Axes>"
            ]
          },
          "metadata": {
            "needs_background": "light"
          },
          "output_type": "display_data"
        },
        {
          "data": {
            "image/png": "[encoded data removed]",
            "text/plain": [
              "<Figure size 504x288 with 2 Axes>"
            ]
          },
          "metadata": {
            "needs_background": "light"
          },
          "output_type": "display_data"
        }
      ],
      "source": [
        "wandb.agent(sweep_id, function=train, count = 12)"
      ]
    }
  ],
  "metadata": {
    "accelerator": "GPU",
    "colab": {
      "collapsed_sections": [],
      "provenance": [],
      "toc_visible": true
    },
    "gpuClass": "standard",
    "kernelspec": {
      "display_name": "Python 3.9.10 ('.venv': poetry)",
      "language": "python",
      "name": "python3"
    },
    "language_info": {
      "name": "python",
      "version": "3.9.10"
    },
    "vscode": {
      "interpreter": {
        "hash": "4d256625fbb1bade68ad17da3e6d572944f24d5a0b7aa7365378aca5508f300d"
      }
    },
    "widgets": {
      "application/vnd.jupyter.widget-state+json": {
        "060a8ffcf10c4943a1c0a34e8f3ac7ce": {
          "model_module": "@jupyter-widgets/controls",
          "model_module_version": "1.5.0",
          "model_name": "VBoxModel",
          "state": {
            "_dom_classes": [],
            "_model_module": "@jupyter-widgets/controls",
            "_model_module_version": "1.5.0",
            "_model_name": "VBoxModel",
            "_view_count": null,
            "_view_module": "@jupyter-widgets/controls",
            "_view_module_version": "1.5.0",
            "_view_name": "VBoxView",
            "box_style": "",
            "children": [
              "IPY_MODEL_d180416cd6bb49b9958e083317e9c376",
              "IPY_MODEL_b2aeede8ad014f77b9e4eca4ab53548c"
            ],
            "layout": "IPY_MODEL_b138936614ef4eb2b8cd6607dc31d627"
          }
        },
        "0c6267279cdb4c9cad7f0d38ddeedaaf": {
          "model_module": "@jupyter-widgets/base",
          "model_module_version": "1.2.0",
          "model_name": "LayoutModel",
          "state": {
            "_model_module": "@jupyter-widgets/base",
            "_model_module_version": "1.2.0",
            "_model_name": "LayoutModel",
            "_view_count": null,
            "_view_module": "@jupyter-widgets/base",
            "_view_module_version": "1.2.0",
            "_view_name": "LayoutView",
            "align_content": null,
            "align_items": null,
            "align_self": null,
            "border": null,
            "bottom": null,
            "display": null,
            "flex": null,
            "flex_flow": null,
            "grid_area": null,
            "grid_auto_columns": null,
            "grid_auto_flow": null,
            "grid_auto_rows": null,
            "grid_column": null,
            "grid_gap": null,
            "grid_row": null,
            "grid_template_areas": null,
            "grid_template_columns": null,
            "grid_template_rows": null,
            "height": null,
            "justify_content": null,
            "justify_items": null,
            "left": null,
            "margin": null,
            "max_height": null,
            "max_width": null,
            "min_height": null,
            "min_width": null,
            "object_fit": null,
            "object_position": null,
            "order": null,
            "overflow": null,
            "overflow_x": null,
            "overflow_y": null,
            "padding": null,
            "right": null,
            "top": null,
            "visibility": null,
            "width": null
          }
        },
        "215292f7511d4c859a87199b43f197a9": {
          "model_module": "@jupyter-widgets/base",
          "model_module_version": "1.2.0",
          "model_name": "LayoutModel",
          "state": {
            "_model_module": "@jupyter-widgets/base",
            "_model_module_version": "1.2.0",
            "_model_name": "LayoutModel",
            "_view_count": null,
            "_view_module": "@jupyter-widgets/base",
            "_view_module_version": "1.2.0",
            "_view_name": "LayoutView",
            "align_content": null,
            "align_items": null,
            "align_self": null,
            "border": null,
            "bottom": null,
            "display": null,
            "flex": null,
            "flex_flow": null,
            "grid_area": null,
            "grid_auto_columns": null,
            "grid_auto_flow": null,
            "grid_auto_rows": null,
            "grid_column": null,
            "grid_gap": null,
            "grid_row": null,
            "grid_template_areas": null,
            "grid_template_columns": null,
            "grid_template_rows": null,
            "height": null,
            "justify_content": null,
            "justify_items": null,
            "left": null,
            "margin": null,
            "max_height": null,
            "max_width": null,
            "min_height": null,
            "min_width": null,
            "object_fit": null,
            "object_position": null,
            "order": null,
            "overflow": null,
            "overflow_x": null,
            "overflow_y": null,
            "padding": null,
            "right": null,
            "top": null,
            "visibility": null,
            "width": null
          }
        },
        "2ce93afe886c4e648cbea9fcf278f7f8": {
          "model_module": "@jupyter-widgets/base",
          "model_module_version": "1.2.0",
          "model_name": "LayoutModel",
          "state": {
            "_model_module": "@jupyter-widgets/base",
            "_model_module_version": "1.2.0",
            "_model_name": "LayoutModel",
            "_view_count": null,
            "_view_module": "@jupyter-widgets/base",
            "_view_module_version": "1.2.0",
            "_view_name": "LayoutView",
            "align_content": null,
            "align_items": null,
            "align_self": null,
            "border": null,
            "bottom": null,
            "display": null,
            "flex": null,
            "flex_flow": null,
            "grid_area": null,
            "grid_auto_columns": null,
            "grid_auto_flow": null,
            "grid_auto_rows": null,
            "grid_column": null,
            "grid_gap": null,
            "grid_row": null,
            "grid_template_areas": null,
            "grid_template_columns": null,
            "grid_template_rows": null,
            "height": null,
            "justify_content": null,
            "justify_items": null,
            "left": null,
            "margin": null,
            "max_height": null,
            "max_width": null,
            "min_height": null,
            "min_width": null,
            "object_fit": null,
            "object_position": null,
            "order": null,
            "overflow": null,
            "overflow_x": null,
            "overflow_y": null,
            "padding": null,
            "right": null,
            "top": null,
            "visibility": null,
            "width": null
          }
        },
        "2de170d72ace4914b9da65594bd1544c": {
          "model_module": "@jupyter-widgets/controls",
          "model_module_version": "1.5.0",
          "model_name": "VBoxModel",
          "state": {
            "_dom_classes": [],
            "_model_module": "@jupyter-widgets/controls",
            "_model_module_version": "1.5.0",
            "_model_name": "VBoxModel",
            "_view_count": null,
            "_view_module": "@jupyter-widgets/controls",
            "_view_module_version": "1.5.0",
            "_view_name": "VBoxView",
            "box_style": "",
            "children": [
              "IPY_MODEL_780213cd6c154f8ea72ebbb2302c0e06",
              "IPY_MODEL_9e0183ad4c444c1cb0364c82824484d3"
            ],
            "layout": "IPY_MODEL_2ce93afe886c4e648cbea9fcf278f7f8"
          }
        },
        "320e220271154a0dbc92fb1a58818a18": {
          "model_module": "@jupyter-widgets/controls",
          "model_module_version": "1.5.0",
          "model_name": "DescriptionStyleModel",
          "state": {
            "_model_module": "@jupyter-widgets/controls",
            "_model_module_version": "1.5.0",
            "_model_name": "DescriptionStyleModel",
            "_view_count": null,
            "_view_module": "@jupyter-widgets/base",
            "_view_module_version": "1.2.0",
            "_view_name": "StyleView",
            "description_width": ""
          }
        },
        "39c1cea5ee2b4d67b1ddbccfb496ed7b": {
          "model_module": "@jupyter-widgets/controls",
          "model_module_version": "1.5.0",
          "model_name": "DescriptionStyleModel",
          "state": {
            "_model_module": "@jupyter-widgets/controls",
            "_model_module_version": "1.5.0",
            "_model_name": "DescriptionStyleModel",
            "_view_count": null,
            "_view_module": "@jupyter-widgets/base",
            "_view_module_version": "1.2.0",
            "_view_name": "StyleView",
            "description_width": ""
          }
        },
        "780213cd6c154f8ea72ebbb2302c0e06": {
          "model_module": "@jupyter-widgets/controls",
          "model_module_version": "1.5.0",
          "model_name": "LabelModel",
          "state": {
            "_dom_classes": [],
            "_model_module": "@jupyter-widgets/controls",
            "_model_module_version": "1.5.0",
            "_model_name": "LabelModel",
            "_view_count": null,
            "_view_module": "@jupyter-widgets/controls",
            "_view_module_version": "1.5.0",
            "_view_name": "LabelView",
            "description": "",
            "description_tooltip": null,
            "layout": "IPY_MODEL_0c6267279cdb4c9cad7f0d38ddeedaaf",
            "placeholder": "​",
            "style": "IPY_MODEL_39c1cea5ee2b4d67b1ddbccfb496ed7b",
            "value": "0.026 MB of 0.026 MB uploaded (0.000 MB deduped)\r"
          }
        },
        "809e1462e67f40bebe151bcf2d9e4b4b": {
          "model_module": "@jupyter-widgets/controls",
          "model_module_version": "1.5.0",
          "model_name": "ProgressStyleModel",
          "state": {
            "_model_module": "@jupyter-widgets/controls",
            "_model_module_version": "1.5.0",
            "_model_name": "ProgressStyleModel",
            "_view_count": null,
            "_view_module": "@jupyter-widgets/base",
            "_view_module_version": "1.2.0",
            "_view_name": "StyleView",
            "bar_color": null,
            "description_width": ""
          }
        },
        "9c87c302f7374681ace34aa4d4b1a2de": {
          "model_module": "@jupyter-widgets/controls",
          "model_module_version": "1.5.0",
          "model_name": "ProgressStyleModel",
          "state": {
            "_model_module": "@jupyter-widgets/controls",
            "_model_module_version": "1.5.0",
            "_model_name": "ProgressStyleModel",
            "_view_count": null,
            "_view_module": "@jupyter-widgets/base",
            "_view_module_version": "1.2.0",
            "_view_name": "StyleView",
            "bar_color": null,
            "description_width": ""
          }
        },
        "9e0183ad4c444c1cb0364c82824484d3": {
          "model_module": "@jupyter-widgets/controls",
          "model_module_version": "1.5.0",
          "model_name": "FloatProgressModel",
          "state": {
            "_dom_classes": [],
            "_model_module": "@jupyter-widgets/controls",
            "_model_module_version": "1.5.0",
            "_model_name": "FloatProgressModel",
            "_view_count": null,
            "_view_module": "@jupyter-widgets/controls",
            "_view_module_version": "1.5.0",
            "_view_name": "ProgressView",
            "bar_style": "",
            "description": "",
            "description_tooltip": null,
            "layout": "IPY_MODEL_b3c8b13b592e44159314ca08c8b4ddbd",
            "max": 1,
            "min": 0,
            "orientation": "horizontal",
            "style": "IPY_MODEL_809e1462e67f40bebe151bcf2d9e4b4b",
            "value": 1
          }
        },
        "b138936614ef4eb2b8cd6607dc31d627": {
          "model_module": "@jupyter-widgets/base",
          "model_module_version": "1.2.0",
          "model_name": "LayoutModel",
          "state": {
            "_model_module": "@jupyter-widgets/base",
            "_model_module_version": "1.2.0",
            "_model_name": "LayoutModel",
            "_view_count": null,
            "_view_module": "@jupyter-widgets/base",
            "_view_module_version": "1.2.0",
            "_view_name": "LayoutView",
            "align_content": null,
            "align_items": null,
            "align_self": null,
            "border": null,
            "bottom": null,
            "display": null,
            "flex": null,
            "flex_flow": null,
            "grid_area": null,
            "grid_auto_columns": null,
            "grid_auto_flow": null,
            "grid_auto_rows": null,
            "grid_column": null,
            "grid_gap": null,
            "grid_row": null,
            "grid_template_areas": null,
            "grid_template_columns": null,
            "grid_template_rows": null,
            "height": null,
            "justify_content": null,
            "justify_items": null,
            "left": null,
            "margin": null,
            "max_height": null,
            "max_width": null,
            "min_height": null,
            "min_width": null,
            "object_fit": null,
            "object_position": null,
            "order": null,
            "overflow": null,
            "overflow_x": null,
            "overflow_y": null,
            "padding": null,
            "right": null,
            "top": null,
            "visibility": null,
            "width": null
          }
        },
        "b2aeede8ad014f77b9e4eca4ab53548c": {
          "model_module": "@jupyter-widgets/controls",
          "model_module_version": "1.5.0",
          "model_name": "FloatProgressModel",
          "state": {
            "_dom_classes": [],
            "_model_module": "@jupyter-widgets/controls",
            "_model_module_version": "1.5.0",
            "_model_name": "FloatProgressModel",
            "_view_count": null,
            "_view_module": "@jupyter-widgets/controls",
            "_view_module_version": "1.5.0",
            "_view_name": "ProgressView",
            "bar_style": "",
            "description": "",
            "description_tooltip": null,
            "layout": "IPY_MODEL_bb8d97e6cd0c4a79aa2ca9d2498eeb51",
            "max": 1,
            "min": 0,
            "orientation": "horizontal",
            "style": "IPY_MODEL_9c87c302f7374681ace34aa4d4b1a2de",
            "value": 1
          }
        },
        "b3c8b13b592e44159314ca08c8b4ddbd": {
          "model_module": "@jupyter-widgets/base",
          "model_module_version": "1.2.0",
          "model_name": "LayoutModel",
          "state": {
            "_model_module": "@jupyter-widgets/base",
            "_model_module_version": "1.2.0",
            "_model_name": "LayoutModel",
            "_view_count": null,
            "_view_module": "@jupyter-widgets/base",
            "_view_module_version": "1.2.0",
            "_view_name": "LayoutView",
            "align_content": null,
            "align_items": null,
            "align_self": null,
            "border": null,
            "bottom": null,
            "display": null,
            "flex": null,
            "flex_flow": null,
            "grid_area": null,
            "grid_auto_columns": null,
            "grid_auto_flow": null,
            "grid_auto_rows": null,
            "grid_column": null,
            "grid_gap": null,
            "grid_row": null,
            "grid_template_areas": null,
            "grid_template_columns": null,
            "grid_template_rows": null,
            "height": null,
            "justify_content": null,
            "justify_items": null,
            "left": null,
            "margin": null,
            "max_height": null,
            "max_width": null,
            "min_height": null,
            "min_width": null,
            "object_fit": null,
            "object_position": null,
            "order": null,
            "overflow": null,
            "overflow_x": null,
            "overflow_y": null,
            "padding": null,
            "right": null,
            "top": null,
            "visibility": null,
            "width": null
          }
        },
        "bb8d97e6cd0c4a79aa2ca9d2498eeb51": {
          "model_module": "@jupyter-widgets/base",
          "model_module_version": "1.2.0",
          "model_name": "LayoutModel",
          "state": {
            "_model_module": "@jupyter-widgets/base",
            "_model_module_version": "1.2.0",
            "_model_name": "LayoutModel",
            "_view_count": null,
            "_view_module": "@jupyter-widgets/base",
            "_view_module_version": "1.2.0",
            "_view_name": "LayoutView",
            "align_content": null,
            "align_items": null,
            "align_self": null,
            "border": null,
            "bottom": null,
            "display": null,
            "flex": null,
            "flex_flow": null,
            "grid_area": null,
            "grid_auto_columns": null,
            "grid_auto_flow": null,
            "grid_auto_rows": null,
            "grid_column": null,
            "grid_gap": null,
            "grid_row": null,
            "grid_template_areas": null,
            "grid_template_columns": null,
            "grid_template_rows": null,
            "height": null,
            "justify_content": null,
            "justify_items": null,
            "left": null,
            "margin": null,
            "max_height": null,
            "max_width": null,
            "min_height": null,
            "min_width": null,
            "object_fit": null,
            "object_position": null,
            "order": null,
            "overflow": null,
            "overflow_x": null,
            "overflow_y": null,
            "padding": null,
            "right": null,
            "top": null,
            "visibility": null,
            "width": null
          }
        },
        "d180416cd6bb49b9958e083317e9c376": {
          "model_module": "@jupyter-widgets/controls",
          "model_module_version": "1.5.0",
          "model_name": "LabelModel",
          "state": {
            "_dom_classes": [],
            "_model_module": "@jupyter-widgets/controls",
            "_model_module_version": "1.5.0",
            "_model_name": "LabelModel",
            "_view_count": null,
            "_view_module": "@jupyter-widgets/controls",
            "_view_module_version": "1.5.0",
            "_view_name": "LabelView",
            "description": "",
            "description_tooltip": null,
            "layout": "IPY_MODEL_215292f7511d4c859a87199b43f197a9",
            "placeholder": "​",
            "style": "IPY_MODEL_320e220271154a0dbc92fb1a58818a18",
            "value": "0.034 MB of 0.034 MB uploaded (0.000 MB deduped)\r"
          }
        }
      }
    }
  },
  "nbformat": 4,
  "nbformat_minor": 0
}
